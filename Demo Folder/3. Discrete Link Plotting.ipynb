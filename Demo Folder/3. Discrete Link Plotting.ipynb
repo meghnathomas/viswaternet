{
 "cells": [
  {
   "cell_type": "markdown",
   "id": "fb4fceba",
   "metadata": {},
   "source": [
    "# 3. Discrete Link Plotting - plot_discrete_links() Function Examples\n",
    "## See <span style=\"color:dodgerblue\"> 1.4</span>,<span style=\"color:dodgerblue\"> 2.1</span>, <span style=\"color:dodgerblue\"> 2.2</span>, <span style=\"color:dodgerblue\"> 2.3</span>, <span style=\"color:dodgerblue\"> 2.4.4</span>, <span style=\"color:dodgerblue\"> 2.5</span>, <span style=\"color:dodgerblue\"> 2.6</span> for already covered arguments"
   ]
  },
  {
   "cell_type": "markdown",
   "id": "c73862c5",
   "metadata": {},
   "source": [
    "## <span style=\"color:dodgerblue\"> Import Libraries </span>"
   ]
  },
  {
   "cell_type": "code",
   "execution_count": null,
   "id": "5e77bb80",
   "metadata": {},
   "outputs": [],
   "source": [
    "import wdn_viz_003 as wdn\n",
    "import matplotlib.pyplot as plt"
   ]
  },
  {
   "cell_type": "markdown",
   "id": "8aa3b15d",
   "metadata": {},
   "source": [
    "## <span style=\"color:dodgerblue\"> Runs Network EPANET simulation, and stores necessary information about network into a dataframe </span>"
   ]
  },
  {
   "cell_type": "code",
   "execution_count": null,
   "id": "9dcdbf53",
   "metadata": {},
   "outputs": [],
   "source": [
    "#Initialize model\n",
    "model = wdn.initialize_model('Networks\\CTown.inp')\n",
    "\n",
    "#Define the file path for images. By default, this is the location where the python file is located.\n",
    "#Because of how Jupyter Notebook works, a relative path from the notebook can not be obtained.\n",
    "\n",
    "model['image_path'] = #Input path like r'D:\\Class Projects\\wdn-viz\\Demo Folder\\Images'"
   ]
  },
  {
   "cell_type": "markdown",
   "id": "34a6ac37",
   "metadata": {},
   "source": [
    "## <span style=\"color:dodgerblue\"> 2.1 Creating a Discrete Links Plot </span>\n",
    "\n",
    "### The only required argument is parameter. Without specifying parameter, an empty plot will be created. \n",
    "\n",
    "### get_tanks and get_reservoirs are not present for link functions.\n",
    "\n",
    "### 'length', 'minor_loss', 'bulk_coeff', and 'wall_coeff' are the possible inputs that can be taken with only the parameter argument."
   ]
  },
  {
   "cell_type": "code",
   "execution_count": null,
   "id": "28b8f15f",
   "metadata": {},
   "outputs": [],
   "source": [
    "#Defines a matplotlib figure and axis. The user can customize the size of the plot in this way.\n",
    "fig, ax = plt.subplots(figsize = (9,15))\n",
    "\n",
    "#Creates discrete nodes plot of length.\n",
    "wdn.plot_discrete_links(model, ax,parameter='length')"
   ]
  },
  {
   "cell_type": "markdown",
   "id": "29db88e1",
   "metadata": {},
   "source": [
    "## <span style=\"color:dodgerblue\"> 2.2 Creating a Discrete Links Plot - Value Argument Parameters\n",
    "    \n",
    "### Some parameters require an additional argument to be set. This argument is called value and can take an integer which represents the timestep, 'max', 'min', or 'mean'. \n",
    "    \n",
    "### 'flowrate', 'velocity', 'headloss', 'friction_factor', 'reaction_rate', and 'quality' are the possible inputs that can be taken when both parameter and value are used."
   ]
  },
  {
   "cell_type": "code",
   "execution_count": null,
   "id": "db8be155",
   "metadata": {},
   "outputs": [],
   "source": [
    "#Defines a matplotlib figure and axis. The user can customize the size of the plot in this way.\n",
    "fig, ax = plt.subplots(figsize = (9,15))\n",
    "\n",
    "#Creates discrete nodes plot of flowrate at timestep 10.\n",
    "wdn.plot_discrete_links(model, ax,parameter='flowrate', value=10)"
   ]
  },
  {
   "cell_type": "markdown",
   "id": "f18a8a73",
   "metadata": {},
   "source": [
    "## <span style=\"color:dodgerblue\"> 2.2 Creating a Discrete Links Plot - bin_width_list Argument\n",
    "    \n",
    "### The bin_width_list argument functions like the bin arguments for discrete node plotting. An array should be provided that is 1 less than the actual number of bin edges, aka the number of bins. All inputs should be integers."
   ]
  },
  {
   "cell_type": "code",
   "execution_count": null,
   "id": "190dfe3a",
   "metadata": {},
   "outputs": [],
   "source": [
    "#Defines a matplotlib figure and axis. The user can customize the size of the plot in this way.\n",
    "fig, ax = plt.subplots(figsize = (9,15))\n",
    "\n",
    "#Creates discrete nodes plot of flowrate at timestep 10 with custom link widths.\n",
    "wdn.plot_discrete_links(model, ax,parameter='flowrate', value=10, bin_width_list=[1,1.5,2,2.5])"
   ]
  }
 ],
 "metadata": {
  "kernelspec": {
   "display_name": "Python 3 (ipykernel)",
   "language": "python",
   "name": "python3"
  },
  "language_info": {
   "codemirror_mode": {
    "name": "ipython",
    "version": 3
   },
   "file_extension": ".py",
   "mimetype": "text/x-python",
   "name": "python",
   "nbconvert_exporter": "python",
   "pygments_lexer": "ipython3",
   "version": "3.8.13"
  }
 },
 "nbformat": 4,
 "nbformat_minor": 5
}
