{
 "cells": [
  {
   "cell_type": "markdown",
   "id": "f36bb444",
   "metadata": {},
   "source": [
    "# 2. Plotting Nodes – Discrete Features\n",
    "This notebook demonstrates the discrete plotting fuctionality for nodes that the function 'plot_discrete_nodes' provides, without any additional data attached to each element of the network.. This function, and notebook allows for and demonstrates the ability to:\n",
    "- Plot both static (e.g., elevation, base demand) and time-varying attributes (pressure, demand);\n",
    "- Specify whether to plot data at a specific timestep, or plot the mean, min, or max for time-varying attributes; \n",
    "- Bin datapoints into defined groups;\n",
    "- Define node size, color, shape, and border for each defined group;\n",
    "- Define whether a legend is drawn for each group, and determine the name of the legend and names of the groups;\n",
    "\n",
    "- See <span style=\"color:dodgerblue\"> 1.4</span> for already covered arguments"
   ]
  },
  {
   "cell_type": "markdown",
   "id": "d752ca5d",
   "metadata": {},
   "source": [
    "## <span style=\"color:dodgerblue\"> plot_discrete_nodes() Function Information</span>\n",
    "Description: Plotting function that gets, bins, and draws discrete node data.\n",
    "\n",
    "Arguments:\n",
    "\n",
    "- `model` - visplot model that contains necessary information about network;\n",
    "- `ax` - matplotlib axes that the elements are being drawn on;\n",
    "\n",
    "\n",
    "- `num_intervals (integer)` - number of intervals to be created (default = 5);\n",
    "- `intervals (array of integers, string)` - array of intervals to be used, or set to 'automatic' (default = 'automatic');\n",
    "- `parameter (string)` - name of parameter to be plotted (default = None);\n",
    "- `value (int, string)` - takes ‘max’ ‘min’ ‘mean’ or an integer that represents the timestep index (default = None);\n",
    "\n",
    "\n",
    "- `get_tanks (boolean)` - determines if the parameter is collected for tanks (default = False). \n",
    "- `get_reservoirs (boolean)` - determines if parameter is collected for reservoirs (default = False).\n",
    "\n",
    "\n",
    "- `bin_size_list (list)` - list of each bin's node size (default = None);\n",
    "- `bin_shape_list (list)` - list of each bin's marker shape (default = None);\n",
    "- `bin_label_list (list)` - label that each bin will use if legend is drawn (default = None);\n",
    "- `bin_border_list (list)` - list of each bin’s node border color (default = None);\n",
    "- `bin_border_width_list (list)` - list of each bin’s node border width. (default = None);\n",
    "\n",
    "\n",
    "- `savefig (boolean)` -  determines whether the figure is saved or not  (default = True);\n",
    "- `save_name (string)` - if not defined, default save name will be the name of the network  (default = True); \n",
    "\n",
    "\n",
    "- `pumps (boolean)` -  determines whether to draw pumps or not (default = True);\n",
    "- `valves (boolean)` -  determines whether to draw pumps or not  (default = True);\n",
    "- `reservoirs (boolean)` -  determines whether to draw pumps or not  (default = True);\n",
    "- `tanks (boolean)` -  determines whether to draw pumps or not  (default = True);\n",
    "\n",
    "\n",
    "- `color_list (list)` - list of each bin’s node color (default = None);\n",
    "- `cmap (string)` - colormap to be used for node colors (default = 'autumn_r');\n",
    "\n",
    "\n",
    "- `legend (boolean)` - determines whether to draw legends or not (default = True);\n",
    "- `legend_title (string)` - title of discrete/unique data legend (default = None);\n",
    "- `legend_loc (string)` - location of base elements legend (default = 'upper right');\n",
    "- `legend_loc2 (string)` - location of discrete/unique data legend (default = 'lower right');"
   ]
  },
  {
   "cell_type": "markdown",
   "id": "ae44f11a",
   "metadata": {},
   "source": [
    "## <span style=\"color:dodgerblue\"> Import Libraries </span>"
   ]
  },
  {
   "cell_type": "code",
   "execution_count": null,
   "id": "0e28386e",
   "metadata": {},
   "outputs": [],
   "source": [
    "import visnet.network as visinit\n",
    "import visnet.drawing as visplot\n",
    "\n",
    "import matplotlib.pyplot as plt\n",
    "import os"
   ]
  },
  {
   "cell_type": "markdown",
   "id": "38c4aeb4",
   "metadata": {},
   "source": [
    "## <span style=\"color:dodgerblue\"> Runs Network EPANET simulation, and stores necessary information about network into a dataframe </span>"
   ]
  },
  {
   "cell_type": "code",
   "execution_count": null,
   "id": "211b5b7a",
   "metadata": {},
   "outputs": [],
   "source": [
    "#Initialize model\n",
    "model = visinit.initialize_model('Networks\\CTown.inp')\n",
    "\n",
    "#Define the file path for images. By default, this is the location where the python file is located.\n",
    "#Because of how Jupyter Notebook works, a relative path from the notebook can not be obtained.\n",
    "cwd = os.getcwd()\n",
    "model['image_path'] = cwd + '\\Images'"
   ]
  },
  {
   "cell_type": "markdown",
   "id": "5d8e1f7e",
   "metadata": {},
   "source": [
    "## <span style=\"color:dodgerblue\"> 2.1 Creating a Discrete Nodes Plot </span>\n",
    "\n",
    "Notes:\n",
    "- The only required argument is parameter. Without specifying parameter, an empty plot will be created. \n",
    "\n",
    "\n",
    "- The arguments get_tanks and get_reservoirs control whether the data for these elements are collected or not. Sometimes the datapoints for tanks/reservoirs can be significantly different from normal junctions, resulting in all junctions being put in one bin, while tanks/reservoirs are put in another. By default, get_tanks and get_reservoirs are set to False.\n",
    "\n",
    "\n",
    "- The arguments tanks, reservoirs, pumps, valves determine if these elements are drawn or not.\n",
    "\n",
    "\n",
    "- The unit argument can be used to convert to other units.\n",
    "\n",
    "\n",
    "- Possible inputs that can be taken with only the parameter argument.\n",
    " - base_demand\n",
    " - elevation\n",
    " - emitter_coefficient\n",
    " - initial_quality\n",
    "\n",
    "### <span style=\"color:mediumseagreen\"> 2.1.1 Setting the parameter to be plotted"
   ]
  },
  {
   "cell_type": "code",
   "execution_count": null,
   "id": "a9dfd370",
   "metadata": {},
   "outputs": [],
   "source": [
    "#Defines a matplotlib figure and axis. The user can customize the size of the plot in this way.\n",
    "fig, ax = plt.subplots(figsize = (9,15))\n",
    "#Removes border from figure\n",
    "plt.box(False)\n",
    "#Creates discrete nodes plot of elevation.\n",
    "visplot.plot_discrete_nodes(model, ax, parameter='elevation')"
   ]
  },
  {
   "cell_type": "markdown",
   "id": "db0755a2",
   "metadata": {},
   "source": [
    "### <span style=\"color:mediumseagreen\"> 2.1.2 Determing if tanks, reservoirs, pumps, valves are drawn"
   ]
  },
  {
   "cell_type": "code",
   "execution_count": null,
   "id": "bcda52b4",
   "metadata": {},
   "outputs": [],
   "source": [
    "#Defines a matplotlib figure and axis. The user can customize the size of the plot in this way.\n",
    "fig, ax = plt.subplots(figsize = (9,15))\n",
    "#Removes border from figure\n",
    "plt.box(False)\n",
    "#Creates discrete nodes plot of elevation. Doesn't draw reservoirs, tanks, pumps or valves\n",
    "visplot.plot_discrete_nodes(model, ax, parameter='elevation',reservoirs=False,tanks=False, pumps=False, valves=False)"
   ]
  },
  {
   "cell_type": "markdown",
   "id": "1d032b5f",
   "metadata": {},
   "source": [
    "### <span style=\"color:mediumseagreen\"> 2.1.3 Getting parameter value for tanks and reservoirs"
   ]
  },
  {
   "cell_type": "code",
   "execution_count": null,
   "id": "95bc1d55",
   "metadata": {},
   "outputs": [],
   "source": [
    "#Defines a matplotlib figure and axis. The user can customize the size of the plot in this way.\n",
    "fig, ax = plt.subplots(figsize = (9,15))\n",
    "#Removes border from figure\n",
    "plt.box(False)\n",
    "#Creates discrete nodes plot of elevation. Doesn't draw reservoirs, tanks, pumps or valves but does collect \n",
    "#tanks/reservoir datapoints\n",
    "visplot.plot_discrete_nodes(model, ax, parameter='elevation',reservoirs=False,tanks=False, pumps=False, valves=False, \n",
    "                        get_tanks=True, get_reservoirs=True)"
   ]
  },
  {
   "cell_type": "markdown",
   "id": "bd0068eb",
   "metadata": {},
   "source": [
    "### <span style=\"color:mediumseagreen\"> 2.1.4 Changing units"
   ]
  },
  {
   "cell_type": "code",
   "execution_count": null,
   "id": "cf0ffe4d",
   "metadata": {},
   "outputs": [],
   "source": [
    "#Defines a matplotlib figure and axis. The user can customize the size of the plot in this way.\n",
    "fig, ax = plt.subplots(figsize = (9,15))\n",
    "#Removes border from figure\n",
    "plt.box(False)\n",
    "#Creates discrete nodes plot of elevation in feet. The default units are SI, and can be converted into units available in EPANET\n",
    "visplot.plot_discrete_nodes(model, ax, parameter='elevation', unit='ft')"
   ]
  },
  {
   "cell_type": "markdown",
   "id": "61296973",
   "metadata": {},
   "source": [
    "## <span style=\"color:dodgerblue\"> 2.2 Creating a Discrete Nodes Plot - Static Parameters\n",
    "\n",
    "Notes:\n",
    "- Some parameters require an additional argument to be set. This argument is called value and can take an integer which represents the timestep, 'max', 'min', or 'mean'. \n",
    "    \n",
    "    \n",
    "- Possible inputs that can be taken when both parameter and value are used:\n",
    " - head; \n",
    " - demand;\n",
    " - leak_demand;\n",
    " - leak area;\n",
    " - leak_discharg_coeff;\n",
    " - quality;\n",
    "\n",
    "### <span style=\"color:mediumseagreen\"> 2.2.1 Using Time-Dependent Parameters"
   ]
  },
  {
   "cell_type": "code",
   "execution_count": null,
   "id": "06b11018",
   "metadata": {},
   "outputs": [],
   "source": [
    "#Defines a matplotlib figure and axis. The user can customize the size of the plot in this way.\n",
    "fig, ax = plt.subplots(figsize = (9,15))\n",
    "#Removes border from figure\n",
    "plt.box(False)\n",
    "#Creates discrete nodes plot of pressure at timestep 6.\n",
    "visplot.plot_discrete_nodes(model, ax, parameter='pressure', value=6)"
   ]
  },
  {
   "cell_type": "markdown",
   "id": "c1e202af",
   "metadata": {},
   "source": [
    "### <span style=\"color:mediumseagreen\"> 2.2.2 Using 'max' Input"
   ]
  },
  {
   "cell_type": "code",
   "execution_count": null,
   "id": "cfe96b73",
   "metadata": {},
   "outputs": [],
   "source": [
    "#Defines a matplotlib figure and axis. The user can customize the size of the plot in this way.\n",
    "fig, ax = plt.subplots(figsize = (9,15))\n",
    "#Removes border from figure\n",
    "plt.box(False)\n",
    "#Creates discrete nodes plot of max pressure over all timesteps.\n",
    "visplot.plot_discrete_nodes(model, ax, parameter='pressure', value='max')"
   ]
  },
  {
   "cell_type": "markdown",
   "id": "5e189718",
   "metadata": {},
   "source": [
    "### <span style=\"color:mediumseagreen\"> 2.2.3 Using 'min' Input"
   ]
  },
  {
   "cell_type": "code",
   "execution_count": null,
   "id": "a9e664ef",
   "metadata": {},
   "outputs": [],
   "source": [
    "#Defines a matplotlib figure and axis. The user can customize the size of the plot in this way.\n",
    "fig, ax = plt.subplots(figsize = (9,15))\n",
    "#Removes border from figure\n",
    "plt.box(False)\n",
    "#Creates discrete nodes plot of min puressure over all timesteps.\n",
    "visplot.plot_discrete_nodes(model, ax, parameter='pressure', value='min')"
   ]
  },
  {
   "cell_type": "markdown",
   "id": "29149ad2",
   "metadata": {},
   "source": [
    "### <span style=\"color:mediumseagreen\"> 2.2.4 Using 'mean' Input"
   ]
  },
  {
   "cell_type": "code",
   "execution_count": null,
   "id": "56b7c112",
   "metadata": {},
   "outputs": [],
   "source": [
    "#Defines a matplotlib figure and axis. The user can customize the size of the plot in this way.\n",
    "fig, ax = plt.subplots(figsize = (9,15))\n",
    "#Removes border from figure\n",
    "plt.box(False)\n",
    "#Creates discrete nodes plot of mean puressure over all timesteps.\n",
    "visplot.plot_discrete_nodes(model, ax, parameter='pressure', value='mean')"
   ]
  },
  {
   "cell_type": "markdown",
   "id": "61306891",
   "metadata": {},
   "source": [
    "## <span style=\"color:dodgerblue\"> 2.3 Creating a Discrete Nodes Plot - Bin Edges\n",
    "\n",
    "Notes:\n",
    "- By Default, the function will group the data into 5 bin edges, resulting in 4 distinct bins. This can be changed with the argument bin_edge_num.\n",
    "    \n",
    "    \n",
    "- The argument intervals is by default set to 'Automatic' and as a result, the function will automatically create the specified number of intervals. By setting the argument intervals to an array of values, one can specify the exact intervals one wants to use. One thing to take notice to is that the function will automatically create new intervals if the specified intervals do not contain all datapoints. This is important when setting custom bin sizes, labels, etc.\n",
    "    \n",
    "### <span style=\"color:mediumseagreen\"> 2.3.1 Specifying number of intervals"
   ]
  },
  {
   "cell_type": "code",
   "execution_count": null,
   "id": "161261fc",
   "metadata": {},
   "outputs": [],
   "source": [
    "#Defines a matplotlib figure and axis. The user can customize the size of the plot in this way.\n",
    "fig, ax = plt.subplots(figsize = (9,15))\n",
    "#Removes border from figure\n",
    "plt.box(False)\n",
    "#Creates discrete nodes plot of elevation with 6 bin edges.\n",
    "visplot.plot_discrete_nodes(model, ax, parameter='elevation', bin_edge_num=6,legend_loc_2='lower left')"
   ]
  },
  {
   "cell_type": "markdown",
   "id": "95164677",
   "metadata": {},
   "source": [
    "### <span style=\"color:mediumseagreen\"> 2.3.2 Specifying intervals"
   ]
  },
  {
   "cell_type": "code",
   "execution_count": null,
   "id": "423d4459",
   "metadata": {},
   "outputs": [],
   "source": [
    "#Defines a matplotlib figure and axis. The user can customize the size of the plot in this way.\n",
    "fig, ax = plt.subplots(figsize = (9,15))\n",
    "#Removes border from figure\n",
    "plt.box(False)\n",
    "#Creates discrete nodes plot of elevation with 6 bin edges and custom bin_edges.\n",
    "visplot.plot_discrete_nodes(model, ax, parameter='elevation',bin_edge_num=6,bins=[0,25,50,75,100,125],legend_loc_2='lower left')"
   ]
  },
  {
   "cell_type": "markdown",
   "id": "4a266c20",
   "metadata": {},
   "source": [
    "## <span style=\"color:dodgerblue\"> 2.4 Creating A Discrete Nodes Plot - Marker Customization Options\n",
    "    \n",
    "Notes:\n",
    "- The arguments bin_size_list, bin_shape_list, bin_border_list, bin_border_width_list, and bin_label_list are all marker/bin customization options available.\n",
    "    \n",
    "    \n",
    "- Each of these arguments should be arrays. The length of the array should be equal to the number of bins, not the number of intervals. For example, if using 4 intervals, there are 3 bins. \n",
    "    \n",
    "### <span style=\"color:mediumseagreen\"> 2.4.1 Changing the node size of bins"
   ]
  },
  {
   "cell_type": "code",
   "execution_count": null,
   "id": "af1718f9",
   "metadata": {},
   "outputs": [],
   "source": [
    "#Defines a matplotlib figure and axis. The user can customize the size of the plot in this way.\n",
    "fig, ax = plt.subplots(figsize = (9,15))\n",
    "#Removes border from figure\n",
    "plt.box(False)\n",
    "#Creates discrete nodes plot of elevation with custom node sizes.\n",
    "visplot.plot_discrete_nodes(model, ax, parameter='elevation', bin_size_list=[100,150,200,500])"
   ]
  },
  {
   "cell_type": "markdown",
   "id": "3d526976",
   "metadata": {},
   "source": [
    "### <span style=\"color:mediumseagreen\"> 2.4.2 Changing the node shape of bins"
   ]
  },
  {
   "cell_type": "code",
   "execution_count": null,
   "id": "a0380d10",
   "metadata": {},
   "outputs": [],
   "source": [
    "#Defines a matplotlib figure and axis. The user can customize the size of the plot in this way.\n",
    "fig, ax = plt.subplots(figsize = (9,15))\n",
    "#Removes border from figure\n",
    "plt.box(False)\n",
    "#Creates discrete nodes plot of elevation with custom node markers.\n",
    "visplot.plot_discrete_nodes(model, ax, parameter='elevation', bin_shape_list=['*','8','X','.'])"
   ]
  },
  {
   "cell_type": "markdown",
   "id": "dcb1345c",
   "metadata": {},
   "source": [
    "### <span style=\"color:mediumseagreen\"> 2.4.3 Specifying border properities of nodes"
   ]
  },
  {
   "cell_type": "code",
   "execution_count": null,
   "id": "3d3b40a4",
   "metadata": {},
   "outputs": [],
   "source": [
    "#Defines a matplotlib figure and axis. The user can customize the size of the plot in this way.\n",
    "fig, ax = plt.subplots(figsize = (9,15))\n",
    "#Removes border from figure\n",
    "plt.box(False)\n",
    "#Creates discrete nodes plot of elevation with custom node borders.\n",
    "visplot.plot_discrete_nodes(model, ax, parameter='elevation', bin_border_list=['b','r','g','k'], \n",
    "                                                          bin_border_width_list=[1,1.5,1.7,1])"
   ]
  },
  {
   "cell_type": "markdown",
   "id": "991688eb",
   "metadata": {},
   "source": [
    "### <span style=\"color:mediumseagreen\"> 2.4.4 Changing bin labels"
   ]
  },
  {
   "cell_type": "code",
   "execution_count": null,
   "id": "749d77d5",
   "metadata": {},
   "outputs": [],
   "source": [
    "#Defines a matplotlib figure and axis. The user can customize the size of the plot in this way.\n",
    "fig, ax = plt.subplots(figsize = (9,15))\n",
    "#Removes border from figure\n",
    "plt.box(False)\n",
    "#Creates discrete nodes plot of elevation with custom bin labels.\n",
    "visplot.plot_discrete_nodes(model, ax, parameter='elevation', bin_label_list=['Group 1', 'Group 2', 'Group 3', 'Group 4'])"
   ]
  },
  {
   "cell_type": "markdown",
   "id": "93a3da53",
   "metadata": {},
   "source": [
    "## <span style=\"color:dodgerblue\"> 2.5 Creating A Discrete Nodes Plot - Legend Arguments </span>\n",
    "\n",
    "Notes:\n",
    "- The available legend arguments are legend, legend_title, legend_loc_1, and legend_loc_2. \n",
    "\n",
    "\n",
    "- The legend argument determines if the legend is drawn, while legend_title determines the legend title of the bin legend only. legend_loc_1 determines the location of the 1st legend, which includes all the basic elements such as pumps or tanks, while legend_loc_2 determines the location of the bin legend.\n",
    "\n",
    "### <span style=\"color:mediumseagreen\"> 2.5.1 Turning of the legend"
   ]
  },
  {
   "cell_type": "code",
   "execution_count": null,
   "id": "e716d94e",
   "metadata": {},
   "outputs": [],
   "source": [
    "#Defines a matplotlib figure and axis. The user can customize the size of the plot in this way.\n",
    "fig, ax = plt.subplots(figsize = (9,15))\n",
    "#Removes border from figure\n",
    "plt.box(False)\n",
    "#Creates discrete nodes plot of elevation, but doesn't draw the legend.\n",
    "visplot.plot_discrete_nodes(model, ax, parameter='elevation', legend=False)"
   ]
  },
  {
   "cell_type": "markdown",
   "id": "8a5f1c98",
   "metadata": {},
   "source": [
    "### <span style=\"color:mediumseagreen\"> 2.5.2 Specifying bin title "
   ]
  },
  {
   "cell_type": "code",
   "execution_count": null,
   "id": "ce0d5061",
   "metadata": {},
   "outputs": [],
   "source": [
    "#Defines a matplotlib figure and axis. The user can customize the size of the plot in this way.\n",
    "fig, ax = plt.subplots(figsize = (9,15))\n",
    "#Removes border from figure\n",
    "plt.box(False)\n",
    "#Creates discrete nodes plot of elevation, but doesn't draw the legend.\n",
    "visplot.plot_discrete_nodes(model, ax, parameter='elevation', legend_title=\"Elevation Groups\", legend_loc_2='lower left')"
   ]
  },
  {
   "cell_type": "markdown",
   "id": "4699c720",
   "metadata": {},
   "source": [
    "### <span style=\"color:mediumseagreen\"> 2.5.3 Changing the location of legends"
   ]
  },
  {
   "cell_type": "code",
   "execution_count": null,
   "id": "236a9fdb",
   "metadata": {},
   "outputs": [],
   "source": [
    "#Defines a matplotlib figure and axis. The user can customize the size of the plot in this way.\n",
    "fig, ax = plt.subplots(figsize = (9,15))\n",
    "#Removes border from figure\n",
    "plt.box(False)\n",
    "#Creates discrete nodes plot of elevation, but doesn't draw the legend.\n",
    "visplot.plot_discrete_nodes(model, ax, parameter='elevation', legend_loc_1='upper left', legend_loc_2='lower left')"
   ]
  },
  {
   "cell_type": "markdown",
   "id": "6f8d1a86",
   "metadata": {},
   "source": [
    "## <span style=\"color:dodgerblue\"> 2.6 Creating a Discrete Nodes Plot - Color Mapping </span>\n",
    "\n",
    "Notes:\n",
    "- The Arguments cmap and color_list are used to color the nodes by what bin they are in. The default cmap for all functions is 'autumn_r' and color_list is set to None. cmap is useful for automatically coloring bins according to a color scheme, but for more percise control of the colors of each bin, color_list should be used. If using color_list, cmap must be set to None.\n",
    "    \n",
    "### <span style=\"color:mediumseagreen\"> 2.6.1 Changing the colormap"
   ]
  },
  {
   "cell_type": "code",
   "execution_count": null,
   "id": "d7a8fe32",
   "metadata": {},
   "outputs": [],
   "source": [
    "#Defines a matplotlib figure and axis. The user can customize the size of the plot in this way.\n",
    "fig, ax = plt.subplots(figsize = (9,15))\n",
    "#Removes border from figure\n",
    "plt.box(False)\n",
    "#Creates discrete nodes plot of elevation using tab10 cmap.\n",
    "visplot.plot_discrete_nodes(model, ax, parameter='elevation', cmap='tab10')"
   ]
  },
  {
   "cell_type": "markdown",
   "id": "692463d2",
   "metadata": {},
   "source": [
    "### <span style=\"color:mediumseagreen\"> 2.6.2 Using list of colors"
   ]
  },
  {
   "cell_type": "code",
   "execution_count": null,
   "id": "f17c1087",
   "metadata": {},
   "outputs": [],
   "source": [
    "#Defines a matplotlib figure and axis. The user can customize the size of the plot in this way.\n",
    "fig, ax = plt.subplots(figsize = (9,15))\n",
    "#Removes border from figure\n",
    "plt.box(False)\n",
    "#Creates discrete nodes plot of elevation using custom color list.\n",
    "visplot.plot_discrete_nodes(model, ax, parameter='elevation', cmap=None,\n",
    "                        color_list=['#9467bd', '#8c564b', '#e377c2', '#7f7f7f'])"
   ]
  }
 ],
 "metadata": {
  "kernelspec": {
   "display_name": "Python 3 (ipykernel)",
   "language": "python",
   "name": "python3"
  },
  "language_info": {
   "codemirror_mode": {
    "name": "ipython",
    "version": 3
   },
   "file_extension": ".py",
   "mimetype": "text/x-python",
   "name": "python",
   "nbconvert_exporter": "python",
   "pygments_lexer": "ipython3",
   "version": "3.8.13"
  }
 },
 "nbformat": 4,
 "nbformat_minor": 5
}
