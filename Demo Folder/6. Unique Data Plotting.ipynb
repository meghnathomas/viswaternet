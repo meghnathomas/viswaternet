{
 "cells": [
  {
   "cell_type": "markdown",
   "id": "c63b844f",
   "metadata": {},
   "source": [
    "# 6. Unique Data Plotting - plot_unique_data() Function Examples\n",
    "This notebook demonstrates the continuous plotting fuctionality that the function 'plot_unique_data' provides. This function, and notebook allows for and demonstrates the ability to:\n",
    "- Plot unique data - data where there are only a certain number of unique values (e.g., demand patterns, tags);\n",
    "- Plot discrete, continuous, or unique data from excel;\n",
    "- Plot discrete, continuous, or unique data generated inside of python;\n",
    "- See <span style=\"color:dodgerblue\"> 1.3</span>, <span style=\"color:dodgerblue\"> 1.4</span>, and all content from sections <span style=\"color:dodgerblue\"> 2-5</span> for already covered arguments"
   ]
  },
  {
   "cell_type": "markdown",
   "id": "c0a9e03b",
   "metadata": {},
   "source": [
    "## <span style=\"color:dodgerblue\"> plot_unique_data() Function Information</span>\n",
    "Description: Plotting function for unique data, as well as excel data and data generated inside of python.\n",
    "\n",
    "Arguments:\n",
    "\n",
    "- `model` - visplot model that contains necessary information about network;\n",
    "- `ax` - matplotlib axes that the elements are being drawn on;\n",
    "\n",
    "\n",
    "- `num_intervals (integer)` - number of intervals to be created (default = 5);\n",
    "- `intervals (array of integers, string)` - array of intervals to be used, or set to 'automatic' (default = 'automatic');\n",
    "- `parameter (string)` - name of parameter to be plotted (default = None);\n",
    "- `value (int, string)` - takes ‘max’ ‘min’ ‘mean’ or an integer that represents the timestep index (default = None);\n",
    "\n",
    "- `parameter_type (string)` - type of element the parameter is; can either be ‘node’ or ‘link’ (default = None);\n",
    "\t\n",
    "- `data_type (string)` - type of data that the excel data is; can be ‘unique’, ‘continuous’, or ‘discrete’ (default = None);\n",
    "\n",
    "\n",
    "- `excel_columns (list of integers)` - takes list of length 2; the first value is the column # of the excel file that contains the list of elements, while the second is the column # of the excel file that contains the list of data values.         (default = None);\n",
    "\n",
    "\n",
    "- `customDataValues (list of integers)` - takes array of length 2; the first value is the list of elements, while the second is the data values (default = None);\n",
    "\n",
    "\n",
    "- **Inherits all arguments from previous functions**\n"
   ]
  },
  {
   "cell_type": "markdown",
   "id": "f016fbb7",
   "metadata": {},
   "source": [
    "## <span style=\"color:dodgerblue\"> Import Libraries </span>"
   ]
  },
  {
   "cell_type": "code",
   "execution_count": null,
   "id": "7408c0c0",
   "metadata": {},
   "outputs": [],
   "source": [
    "import visnet.network as visinit\n",
    "import visnet.drawing as visplot\n",
    "\n",
    "import matplotlib.pyplot as plt\n",
    "import os"
   ]
  },
  {
   "cell_type": "markdown",
   "id": "6af4a97b",
   "metadata": {},
   "source": [
    "## <span style=\"color:dodgerblue\"> Runs Network EPANET simulation, and stores necessary information about network into a dataframe </span>"
   ]
  },
  {
   "cell_type": "code",
   "execution_count": null,
   "id": "26ab7125",
   "metadata": {},
   "outputs": [],
   "source": [
    "#Initialize model\n",
    "model = visinit.initialize_model('Networks\\CTown.inp')\n",
    "\n",
    "#Define the file path for images. By default, this is the location where the python file is located.\n",
    "#Because of how Jupyter Notebook works, a relative path from the notebook can not be obtained.\n",
    "cwd = os.getcwd()\n",
    "model['image_path'] = cwd + '\\Images'"
   ]
  },
  {
   "cell_type": "markdown",
   "id": "54fcf1c8",
   "metadata": {},
   "source": [
    "## <span style=\"color:dodgerblue\"> 6.1 Unqiue Data Plotting - Special Parameters </span>\n",
    "\n",
    "Notes:\n",
    "- The special parameters that are used by this function are 'demand_patterns', 'diameter', and 'tag'. \n",
    "\n",
    "\n",
    "- All three of these are plotted using discrete plotting, however they are special because their data is not numerical but unique.\n",
    "\n",
    "\n",
    "- All arguments from functions from section 2-5 can be used when appropriate with plot_unique_data()\n",
    "\n",
    "### <span style=\"color:mediumseagreen\"> 6.1.1 Plotting 'demand_patterns' parameter"
   ]
  },
  {
   "cell_type": "code",
   "execution_count": null,
   "id": "47f9fe61",
   "metadata": {},
   "outputs": [],
   "source": [
    "#Defines a matplotlib figure and axis. The user can customize the size of the plot in this way.\n",
    "fig, ax = plt.subplots(figsize=(10,15))\n",
    "#Removes border from figure\n",
    "plt.box(False)\n",
    "#Plots demand patterns\n",
    "visplot.plot_unique_data(model, ax, parameter='demand_patterns')"
   ]
  },
  {
   "cell_type": "markdown",
   "id": "9eff04e7",
   "metadata": {},
   "source": [
    "### <span style=\"color:mediumseagreen\"> 6.1.2 Plotting 'diameter' parameter"
   ]
  },
  {
   "cell_type": "code",
   "execution_count": null,
   "id": "8800f169",
   "metadata": {},
   "outputs": [],
   "source": [
    "#Defines a matplotlib figure and axis. The user can customize the size of the plot in this way.\n",
    "fig, ax = plt.subplots(figsize=(10,15))\n",
    "#Removes border from figure\n",
    "plt.box(False)\n",
    "#Plots diameter.\n",
    "visplot.plot_unique_data(model, ax, parameter='diameter')"
   ]
  },
  {
   "cell_type": "markdown",
   "id": "4044928b",
   "metadata": {},
   "source": [
    "## <span style=\"color:mediumseagreen\"> 6.1.3 Plotting 'tag' parameter"
   ]
  },
  {
   "cell_type": "code",
   "execution_count": null,
   "id": "e6300313",
   "metadata": {},
   "outputs": [],
   "source": [
    "#Defines a matplotlib figure and axis. The user can customize the size of the plot in this way.\n",
    "fig, ax = plt.subplots(figsize=(10,15))\n",
    "#Removes border from figure\n",
    "plt.box(False)\n",
    "#Plots tags.\n",
    "visplot.plot_unique_data(model, ax, parameter='tag',cmap='tab10')"
   ]
  },
  {
   "cell_type": "markdown",
   "id": "b2c6d1a8",
   "metadata": {},
   "source": [
    "## <span style=\"color:dodgerblue\"> 6.2 Unqiue Data Plotting - Excel Data </span>\n",
    "\n",
    "Notes:\n",
    "- Data from .xlsx can be imported and used. The arguments parameter, parameter_type, data_type, and excel_columns are used to faciltate this.\n",
    "\n",
    "\n",
    "- The parameter argument should contain the directory name of the excel file being used. \n",
    "    \n",
    "    \n",
    "- parameter_type refers to whether the parameter is for links or nodes. The two possible inputs for this argument are 'node' or 'link'.\n",
    "\n",
    "\n",
    "- data_type refers to what type of data is being used. This can either be 'unique', 'discrete', or 'continuous'.\n",
    "   \n",
    "   \n",
    "- Finally, the excel_columns argument takes an integer array of size two. The first value should be the excel column (first column should be inputted as 0) that contains the names of the nodes/links being plotted. The second value should include the actual data values. \n",
    " \n",
    "### <span style=\"color:mediumseagreen\"> 6.2.1 Unique link excel data"
   ]
  },
  {
   "cell_type": "code",
   "execution_count": null,
   "id": "784d8cd6",
   "metadata": {},
   "outputs": [],
   "source": [
    "#Initializes new model\n",
    "model = visinit.initialize_model(r'Networks\\NWC_old_stations.inp')\n",
    "cwd = os.getcwd()\n",
    "model['image_path'] = cwd + '\\Images'"
   ]
  },
  {
   "cell_type": "code",
   "execution_count": null,
   "id": "36853ada",
   "metadata": {},
   "outputs": [],
   "source": [
    "#Defines a matplotlib figure and axis. The user can customize the size of the plot in this way.\n",
    "fig, ax = plt.subplots(figsize=(10,17))\n",
    "#Removes border from figure\n",
    "plt.box(False)\n",
    "#Plots unique data from Excel file\n",
    "visplot.plot_unique_data(model, ax, parameter=r'Excel\\\\NWC Pipes.xlsx', parameter_type='link', data_type='unique', excel_columns=[0,1])"
   ]
  },
  {
   "cell_type": "markdown",
   "id": "41424684",
   "metadata": {},
   "source": [
    "### <span style=\"color:mediumseagreen\"> 6.2.2 discrete link excel data"
   ]
  },
  {
   "cell_type": "code",
   "execution_count": null,
   "id": "baf2a56c",
   "metadata": {},
   "outputs": [],
   "source": [
    "#Defines a matplotlib figure and axis. The user can customize the size of the plot in this way.\n",
    "fig, ax = plt.subplots(figsize=(10,17))\n",
    "#Removes border from figure\n",
    "plt.box(False)\n",
    "#Plots unique data from Excel file\n",
    "visplot.plot_unique_data(model, ax, parameter=r'Excel\\\\NWC Pipes.xlsx', parameter_type='link', data_type='discrete', excel_columns=[0,3])"
   ]
  },
  {
   "cell_type": "markdown",
   "id": "8299e3e6",
   "metadata": {},
   "source": [
    "### <span style=\"color:mediumseagreen\"> 6.2.3 continuous link excel data"
   ]
  },
  {
   "cell_type": "code",
   "execution_count": null,
   "id": "9434eab4",
   "metadata": {},
   "outputs": [],
   "source": [
    "#Defines a matplotlib figure and axis. The user can customize the size of the plot in this way.\n",
    "fig, ax = plt.subplots(figsize=(10,17))\n",
    "#Removes border from figure\n",
    "plt.box(False)\n",
    "#Plots unique data from Excel file\n",
    "visplot.plot_unique_data(model, ax, parameter=r'Excel\\\\NWC Pipes.xlsx', parameter_type='link', data_type='continuous', excel_columns=[0,3])"
   ]
  },
  {
   "cell_type": "markdown",
   "id": "38fc1e0e",
   "metadata": {},
   "source": [
    "## <span style=\"color:dodgerblue\"> 6.2 Unique Data Plotting - Custom Data from inside Python </span>\n",
    "\n",
    "Notes:\n",
    "- Data from python can also used. The arguments parameter, parameter_type, data_type, and custom_data_values are used to faciltate this.\n",
    "    \n",
    "    \n",
    "- The only difference between this and working with data from excel is the use of the custom_data_values. With custom_data_values, it takes an array of two lists. The first list should be the list of node names, while the second should be the actual data."
   ]
  },
  {
   "cell_type": "code",
   "execution_count": null,
   "id": "5c3cc1f3",
   "metadata": {},
   "outputs": [],
   "source": [
    "#Special continuous numerical data in python\n",
    "import random\n",
    "\n",
    "fig, ax = plt.subplots(figsize=(12,17))\n",
    "#Removes border from figure\n",
    "plt.box(False)\n",
    "data = []\n",
    "index = []\n",
    "\n",
    "for node in model['node_names']:\n",
    "    data.append(random.randint(0,100))\n",
    "    index.append(node)\n",
    "    \n",
    "visplot.plot_unique_data(model, ax, parameter='custom_data',\n",
    "                     data_type='continuous',\n",
    "                     parameter_type='node',\n",
    "                     custom_data_values=[index,data])"
   ]
  },
  {
   "cell_type": "code",
   "execution_count": null,
   "id": "f8f891ee",
   "metadata": {},
   "outputs": [],
   "source": []
  }
 ],
 "metadata": {
  "kernelspec": {
   "display_name": "Python 3 (ipykernel)",
   "language": "python",
   "name": "python3"
  },
  "language_info": {
   "codemirror_mode": {
    "name": "ipython",
    "version": 3
   },
   "file_extension": ".py",
   "mimetype": "text/x-python",
   "name": "python",
   "nbconvert_exporter": "python",
   "pygments_lexer": "ipython3",
   "version": "3.8.13"
  }
 },
 "nbformat": 4,
 "nbformat_minor": 5
}
