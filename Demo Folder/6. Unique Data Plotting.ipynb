{
 "cells": [
  {
   "cell_type": "markdown",
   "id": "c63b844f",
   "metadata": {},
   "source": [
    "# 6. Unique Data Plotting - plot_unique_data() Function Examples\n",
    "## See <span style=\"color:dodgerblue\"> 1.3</span>, <span style=\"color:dodgerblue\"> 1.4</span>, and all content from sections <span style=\"color:dodgerblue\"> 2-5</span> for already covered arguments"
   ]
  },
  {
   "cell_type": "markdown",
   "id": "f016fbb7",
   "metadata": {},
   "source": [
    "## <span style=\"color:dodgerblue\"> Import Libraries </span>"
   ]
  },
  {
   "cell_type": "code",
   "execution_count": null,
   "id": "7408c0c0",
   "metadata": {},
   "outputs": [],
   "source": [
    "import wdn_viz_003 as wdn\n",
    "import matplotlib.pyplot as plt"
   ]
  },
  {
   "cell_type": "markdown",
   "id": "6af4a97b",
   "metadata": {},
   "source": [
    "## <span style=\"color:dodgerblue\"> Runs Network EPANET simulation, and stores necessary information about network into a dataframe </span>"
   ]
  },
  {
   "cell_type": "code",
   "execution_count": null,
   "id": "26ab7125",
   "metadata": {},
   "outputs": [],
   "source": [
    "#Initialize model\n",
    "model = wdn.initialize_model('Networks\\CTown.inp')\n",
    "\n",
    "#Define the file path for images. By default, this is the location where the python file is located.\n",
    "#Because of how Jupyter Notebook works, a relative path from the notebook can not be obtained.\n",
    "\n",
    "model['image_path'] = #Input path like r'D:\\Class Projects\\wdn-viz\\Demo Folder\\Images'"
   ]
  },
  {
   "cell_type": "markdown",
   "id": "54fcf1c8",
   "metadata": {},
   "source": [
    "## <span style=\"color:dodgerblue\"> 6.1 Unqiue Data Plotting - Special Parameters\n",
    "\n",
    "### The special parameters that are used by this function are 'demand_patterns', 'diameter', and 'tag'. \n",
    "\n",
    "### All three of these are plotted using discrete plotting, however they are special because their data is not numerical but unique.\n",
    "\n",
    "### All arguments from functions from section 2-5 can be used when appropriate with plot_unique_data()\n",
    "\n",
    "### <span style=\"color:mediumseagreen\"> 6.1.1 'demand_patterns' Parameter"
   ]
  },
  {
   "cell_type": "code",
   "execution_count": null,
   "id": "47f9fe61",
   "metadata": {},
   "outputs": [],
   "source": [
    "#Defines a matplotlib figure and axis. The user can customize the size of the plot in this way.\n",
    "fig, ax = plt.subplots(figsize=(10,15))\n",
    "\n",
    "#Plots demand patterns\n",
    "wdn.plot_unique_data(model, ax, parameter='demand_patterns')"
   ]
  },
  {
   "cell_type": "markdown",
   "id": "9eff04e7",
   "metadata": {},
   "source": [
    "### <span style=\"color:mediumseagreen\"> 6.1.2 'diameter' Parameter"
   ]
  },
  {
   "cell_type": "code",
   "execution_count": null,
   "id": "8800f169",
   "metadata": {},
   "outputs": [],
   "source": [
    "#Defines a matplotlib figure and axis. The user can customize the size of the plot in this way.\n",
    "fig, ax = plt.subplots(figsize=(10,15))\n",
    "\n",
    "#Plots diameter.\n",
    "wdn.plot_unique_data(model, ax, parameter='diameter')"
   ]
  },
  {
   "cell_type": "markdown",
   "id": "4044928b",
   "metadata": {},
   "source": [
    "## <span style=\"color:mediumseagreen\"> 6.1.3 'tag' Parameter"
   ]
  },
  {
   "cell_type": "code",
   "execution_count": null,
   "id": "e6300313",
   "metadata": {},
   "outputs": [],
   "source": [
    "#Defines a matplotlib figure and axis. The user can customize the size of the plot in this way.\n",
    "fig, ax = plt.subplots(figsize=(10,15))\n",
    "\n",
    "#Plots tags.\n",
    "wdn.plot_unique_data(model, ax, parameter='tag')"
   ]
  },
  {
   "cell_type": "markdown",
   "id": "b2c6d1a8",
   "metadata": {},
   "source": [
    "## <span style=\"color:dodgerblue\"> 6.2 Unqiue Data Plotting - Excel Data\n",
    "\n",
    "### Data from .xlsx can be imported and used. The arguments parameter, parameter_type, data_type, and excel_columns are used to faciltate this.\n",
    "\n",
    "### The parameter argument should contain the directory name of the excel file being used. \n",
    "    \n",
    "### parameter_type refers to whether the parameter is for links or nodes. The two possible inputs for this argument are 'node' or 'link'.\n",
    "\n",
    "### data_type refers to what type of data is being used. This can either be 'unique', 'discrete', or 'continuous'.\n",
    "    \n",
    "### Finally, the excel_columns argument takes an integer array of size two. The first value should be the excel column (first column should be inputted as 0) that contains the names of the nodes/links being plotted. The second value should include the actual data values. \n",
    " \n",
    "### <span style=\"color:mediumseagreen\"> 6.2.1 Unique Link Excel Data"
   ]
  },
  {
   "cell_type": "code",
   "execution_count": null,
   "id": "784d8cd6",
   "metadata": {},
   "outputs": [],
   "source": [
    "#Initializes new model\n",
    "model = wdn.initialize_model(r'Networks\\NWC_old_stations.inp')\n",
    "\n",
    "model['image_path'] = r'D:\\Class Projects\\wdn-viz\\Base Codes\\Images'"
   ]
  },
  {
   "cell_type": "code",
   "execution_count": null,
   "id": "36853ada",
   "metadata": {},
   "outputs": [],
   "source": [
    "#Defines a matplotlib figure and axis. The user can customize the size of the plot in this way.\n",
    "fig, ax = plt.subplots(figsize=(10,17))\n",
    "\n",
    "#Plots unique data from Excel file\n",
    "wdn.plot_unique_data(model, ax, parameter='NWC Pipes.xlsx', parameter_type='link', data_type='unique', excel_columns=[0,1])"
   ]
  },
  {
   "cell_type": "markdown",
   "id": "41424684",
   "metadata": {},
   "source": [
    "### <span style=\"color:mediumseagreen\"> 6.2.2 Discrete Link Excel Data"
   ]
  },
  {
   "cell_type": "code",
   "execution_count": null,
   "id": "baf2a56c",
   "metadata": {},
   "outputs": [],
   "source": [
    "#Defines a matplotlib figure and axis. The user can customize the size of the plot in this way.\n",
    "fig, ax = plt.subplots(figsize=(10,17))\n",
    "\n",
    "#Plots unique data from Excel file\n",
    "wdn.plot_unique_data(model, ax, parameter='NWC Pipes.xlsx', parameter_type='link', data_type='discrete', excel_columns=[0,3])"
   ]
  },
  {
   "cell_type": "markdown",
   "id": "8299e3e6",
   "metadata": {},
   "source": [
    "### <span style=\"color:mediumseagreen\"> 6.2.3 Continuous Link Excel Data"
   ]
  },
  {
   "cell_type": "code",
   "execution_count": null,
   "id": "9434eab4",
   "metadata": {},
   "outputs": [],
   "source": [
    "#Defines a matplotlib figure and axis. The user can customize the size of the plot in this way.\n",
    "fig, ax = plt.subplots(figsize=(10,17))\n",
    "\n",
    "#Plots unique data from Excel file\n",
    "wdn.plot_unique_data(model, ax, parameter='NWC Pipes.xlsx', parameter_type='link', data_type='continuous', excel_columns=[0,3])"
   ]
  },
  {
   "cell_type": "markdown",
   "id": "38fc1e0e",
   "metadata": {},
   "source": [
    "## <span style=\"color:dodgerblue\"> 6.2 Unqiue Data Plotting - Custom Data from inside Python\n",
    "\n",
    "### Data from python can also used. The arguments parameter, parameter_type, data_type, and custom_data_values are used to faciltate this.\n",
    "    \n",
    "### The only difference between this and working with data from excel is the use of the custom_data_values. With custom_data_values, it takes an array of two lists. The first list should be the list of node names, while the second should be the actual data."
   ]
  },
  {
   "cell_type": "code",
   "execution_count": null,
   "id": "5c3cc1f3",
   "metadata": {},
   "outputs": [],
   "source": [
    "#Special continuous numerical data in python\n",
    "import random\n",
    "\n",
    "fig, ax = plt.subplots(figsize=(12,17))\n",
    "\n",
    "data = []\n",
    "index = []\n",
    "\n",
    "for node in model['node_names']:\n",
    "    data.append(random.randint(0,100))\n",
    "    index.append(node)\n",
    "    \n",
    "wdn.plot_unique_data(model, ax, parameter='custom_data',\n",
    "                     data_type='continuous',\n",
    "                     parameter_type='node',\n",
    "                     custom_data_values=[index,data])"
   ]
  }
 ],
 "metadata": {
  "kernelspec": {
   "display_name": "Python 3 (ipykernel)",
   "language": "python",
   "name": "python3"
  },
  "language_info": {
   "codemirror_mode": {
    "name": "ipython",
    "version": 3
   },
   "file_extension": ".py",
   "mimetype": "text/x-python",
   "name": "python",
   "nbconvert_exporter": "python",
   "pygments_lexer": "ipython3",
   "version": "3.8.13"
  }
 },
 "nbformat": 4,
 "nbformat_minor": 5
}
