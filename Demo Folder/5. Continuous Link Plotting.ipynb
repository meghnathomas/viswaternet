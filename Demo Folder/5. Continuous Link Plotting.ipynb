{
 "cells": [
  {
   "cell_type": "markdown",
   "id": "c59573b0",
   "metadata": {},
   "source": [
    "# 5. Continuous Link Plotting - plot_continuous_links() Function Examples\n",
    "## See <span style=\"color:dodgerblue\"> 1.3</span>, <span style=\"color:dodgerblue\"> 1.4</span>, <span style=\"color:dodgerblue\"> 3.1</span>, <span style=\"color:dodgerblue\"> 3.2</span>, <span style=\"color:dodgerblue\"> 4.2</span>, <span style=\"color:dodgerblue\"> and 4.3</span> for already covered arguments"
   ]
  },
  {
   "cell_type": "markdown",
   "id": "2243db39",
   "metadata": {},
   "source": [
    "## <span style=\"color:dodgerblue\"> Import Libraries </span>"
   ]
  },
  {
   "cell_type": "code",
   "execution_count": null,
   "id": "8b7a16ef",
   "metadata": {},
   "outputs": [],
   "source": [
    "import wdn_viz_003 as wdn\n",
    "import matplotlib.pyplot as plt\n",
    "import os"
   ]
  },
  {
   "cell_type": "markdown",
   "id": "1cf122b2",
   "metadata": {},
   "source": [
    "## <span style=\"color:dodgerblue\"> Runs Network EPANET simulation, and stores necessary information about network into a dataframe </span>"
   ]
  },
  {
   "cell_type": "code",
   "execution_count": null,
   "id": "72e48caf",
   "metadata": {},
   "outputs": [],
   "source": [
    "#Initialize model\n",
    "model = wdn.initialize_model('Networks\\CTown.inp')\n",
    "\n",
    "#Define the file path for images. By default, this is the location where the python file is located.\n",
    "#Because of how Jupyter Notebook works, a relative path from the notebook can not be obtained.\n",
    "\n",
    "cwd = os.getcwd()\n",
    "model['image_path'] = cwd + '\\Images'"
   ]
  },
  {
   "cell_type": "markdown",
   "id": "c3a317d3",
   "metadata": {},
   "source": [
    "## <span style=\"color:dodgerblue\"> 5.1 Creating a Continuous Nodes Plot - Line Width Varation Arguments</span>\n",
    "\n",
    "### The arguments min_width and max_width determine how potentially wide or narrow a link will be plotted. When the two are not equal to each other, which is the case by default, the function will linerally vary the line width of each link based on the value of it's data. \n",
    "\n",
    "### <span style=\"color:mediumseagreen\"> 5.1.1 When min_width And max_width Are Equal"
   ]
  },
  {
   "cell_type": "code",
   "execution_count": null,
   "id": "5104ea49",
   "metadata": {},
   "outputs": [],
   "source": [
    "#Defines a matplotlib figure and axis. The user can customize the size of the plot in this way.\n",
    "fig, ax = plt.subplots(figsize = (9,15))\n",
    "\n",
    "#Creates continuous links plot of flowrate at timestep 10 with equal min_width and max_width.\n",
    "wdn.plot_continuous_links(model, ax, parameter='flowrate',value=10, min_width=2,max_width=2)"
   ]
  },
  {
   "cell_type": "markdown",
   "id": "501bf07f",
   "metadata": {},
   "source": [
    "### <span style=\"color:mediumseagreen\"> 5.1.1 When min_width And max_width Are Not Equal"
   ]
  },
  {
   "cell_type": "code",
   "execution_count": null,
   "id": "e19855c7",
   "metadata": {},
   "outputs": [],
   "source": [
    "#Defines a matplotlib figure and axis. The user can customize the size of the plot in this way.\n",
    "fig, ax = plt.subplots(figsize = (9,15))\n",
    "\n",
    "#Creates continuous links plot of flowrate at timestep 10 with default min_width and max_width (1 and 5).\n",
    "wdn.plot_continuous_links(model, ax, parameter='flowrate',value=10)"
   ]
  }
 ],
 "metadata": {
  "kernelspec": {
   "display_name": "Python 3 (ipykernel)",
   "language": "python",
   "name": "python3"
  },
  "language_info": {
   "codemirror_mode": {
    "name": "ipython",
    "version": 3
   },
   "file_extension": ".py",
   "mimetype": "text/x-python",
   "name": "python",
   "nbconvert_exporter": "python",
   "pygments_lexer": "ipython3",
   "version": "3.8.13"
  }
 },
 "nbformat": 4,
 "nbformat_minor": 5
}
