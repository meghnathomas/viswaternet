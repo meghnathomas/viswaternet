{
 "cells": [
  {
   "cell_type": "markdown",
   "id": "46dbf786",
   "metadata": {},
   "source": [
    "# 4. Plotting Nodes – Continuous Features\n",
    "This notebook demonstrates the continuous plotting fuctionality for nodes that the function 'plot_discrete_nodes' provides. This function, and notebook allows for and demonstrates the ability to:\n",
    "- Plot datapoints using a colormap;\n",
    "- Draw a colorbar, and adding a title to it;\n",
    "-See <span style=\"color:dodgerblue\"> 1.3</span>, <span style=\"color:dodgerblue\"> 1.4</span>, <span style=\"color:dodgerblue\"> 2.1</span>, <span style=\"color:dodgerblue\"> and 2.2</span> for already covered arguments"
   ]
  },
  {
   "cell_type": "markdown",
   "id": "bc59990d",
   "metadata": {},
   "source": [
    "## <span style=\"color:dodgerblue\"> plot_continuous_nodes() Function Information</span>\n",
    "Description: Plotting function that gets and draws continuous node data.\n",
    "\n",
    "Arguments:\n",
    "\n",
    "- `model` - vis model that contains necessary information about network;\n",
    "- `ax` - matplotlib axes that the elements are being drawn on;\n",
    "\n",
    "\n",
    "- `num_intervals (integer)` - number of intervals to be created (default = 5);\n",
    "- `intervals (array of integers, string)` - array of intervals to be used, or set to 'automatic' (default = 'automatic');\n",
    "- `parameter (string)` - name of parameter to be plotted (default = None);\n",
    "- `value (int, string)` - takes ‘max’ ‘min’ ‘mean’ or an integer that represents the timestep index (default = None);\n",
    "\n",
    "\n",
    "- `get_tanks (boolean)` - determines if the parameter is collected for tanks (default = False). \n",
    "- `get_reservoirs (boolean)` - determines if parameter is collected for reservoirs (default = False).\n",
    "\n",
    "\n",
    "- `node_size (list,integer)` - Size of nodes (default = 100);\n",
    "- `node_shape (string)` - shape of nodes (default = '.');\n",
    "\n",
    "\n",
    "- `savefig (boolean)` -  determines whether the figure is saved or not  (default = True);\n",
    "- `save_name (string)` - if not defined, default save name will be the name of the network  (default = True); \n",
    "\n",
    "\n",
    "- `pumps (boolean)` -  determines whether to draw pumps or not (default = True);\n",
    "- `valves (boolean)` -  determines whether to draw pumps or not  (default = True);\n",
    "- `reservoirs (boolean)` -  determines whether to draw pumps or not  (default = True);\n",
    "- `tanks (boolean)` -  determines whether to draw pumps or not  (default = True);\n",
    "\n",
    "\n",
    "- `cmap (string)` - colormap to be used for node colors (default = 'autumn_r');\n",
    "\n",
    "\n",
    "- `legend (boolean)` - determines whether to draw legends or not (default = True);\n",
    "- `color_bar_title (string)` - title of the color bar (default = None);\n",
    "- `legend_loc (string)` - location of base elements legend (default = 'upper right');"
   ]
  },
  {
   "cell_type": "markdown",
   "id": "fc89a4ae",
   "metadata": {},
   "source": [
    "## <span style=\"color:dodgerblue\"> Import Libraries </span>"
   ]
  },
  {
   "cell_type": "code",
   "execution_count": null,
   "id": "0e2d6106",
   "metadata": {},
   "outputs": [],
   "source": [
    "import visnet010 as vis\n",
    "import matplotlib.pyplot as plt\n",
    "import os"
   ]
  },
  {
   "cell_type": "markdown",
   "id": "73d64e7b",
   "metadata": {},
   "source": [
    "## <span style=\"color:dodgerblue\"> Runs Network EPANET simulation, and stores necessary information about network into a dataframe </span>"
   ]
  },
  {
   "cell_type": "code",
   "execution_count": null,
   "id": "cda9d456",
   "metadata": {},
   "outputs": [],
   "source": [
    "#Initialize model\n",
    "model = vis.initialize_model('Networks\\CTown.inp')\n",
    "\n",
    "#Define the file path for images. By default, this is the location where the python file is located.\n",
    "#Because of how Jupyter Notebook works, a relative path from the notebook can not be obtained.\n",
    "cwd = os.getcwd()\n",
    "model['image_path'] = cwd + '\\Images'"
   ]
  },
  {
   "cell_type": "markdown",
   "id": "60311b41",
   "metadata": {},
   "source": [
    "## <span style=\"color:dodgerblue\"> 4.1 Creating a Continuous Nodes Plot - Marker Customization Options</span>\n",
    "\n",
    "### The arguments node_size, node_shape, edge_colors, and line_widths are the available marker customization options for a continuous nodes plot.\n",
    "\n",
    "### node_size and line_widths takes a single integer, while node_shape and edge_colors each take a single string.\n",
    "\n",
    "### <span style=\"color:mediumseagreen\"> 4.1.1 Setting node size"
   ]
  },
  {
   "cell_type": "code",
   "execution_count": null,
   "id": "e1989503",
   "metadata": {},
   "outputs": [],
   "source": [
    "#Defines a matplotlib figure and axis. The user can customize the size of the plot in this way.\n",
    "fig, ax = plt.subplots(figsize = (9,15))\n",
    "#Removes border from figure\n",
    "plt.box(False)\n",
    "#Creates continuous nodes plot of elevation with node 50.\n",
    "vis.plot_continuous_nodes(model, ax, parameter='elevation', node_size=50)"
   ]
  },
  {
   "cell_type": "markdown",
   "id": "f8a28e9e",
   "metadata": {},
   "source": [
    "### <span style=\"color:mediumseagreen\"> 4.1.2 Setting node shape"
   ]
  },
  {
   "cell_type": "code",
   "execution_count": null,
   "id": "2efffa2a",
   "metadata": {},
   "outputs": [],
   "source": [
    "#Defines a matplotlib figure and axis. The user can customize the size of the plot in this way.\n",
    "fig, ax = plt.subplots(figsize = (9,15))\n",
    "#Removes border from figure\n",
    "plt.box(False)\n",
    "#Creates continuous nodes plot of elevation with node shape *.\n",
    "vis.plot_continuous_nodes(model, ax, parameter='elevation', node_shape='*')"
   ]
  },
  {
   "cell_type": "markdown",
   "id": "766f1ddc",
   "metadata": {},
   "source": [
    "### <span style=\"color:mediumseagreen\"> 4.1.3 Setting edge_colors"
   ]
  },
  {
   "cell_type": "code",
   "execution_count": null,
   "id": "c9764a2d",
   "metadata": {},
   "outputs": [],
   "source": [
    "#Defines a matplotlib figure and axis. The user can customize the size of the plot in this way.\n",
    "fig, ax = plt.subplots(figsize = (9,15))\n",
    "#Removes border from figure\n",
    "plt.box(False)\n",
    "#Creates continuous nodes plot of elevation with border color black.\n",
    "vis.plot_continuous_nodes(model, ax, parameter='elevation', edge_colors='k')"
   ]
  },
  {
   "cell_type": "markdown",
   "id": "1263057a",
   "metadata": {},
   "source": [
    "### <span style=\"color:mediumseagreen\"> 4.1.4 Setting node border line width"
   ]
  },
  {
   "cell_type": "code",
   "execution_count": null,
   "id": "ded0b40b",
   "metadata": {},
   "outputs": [],
   "source": [
    "#Defines a matplotlib figure and axis. The user can customize the size of the plot in this way.\n",
    "fig, ax = plt.subplots(figsize = (9,15))\n",
    "#Removes border from figure\n",
    "plt.box(False)\n",
    "#Creates continuous nodes plot of elevation with black borders of thickness 2.\n",
    "vis.plot_continuous_nodes(model, ax, parameter='elevation', edge_colors='k', line_widths=2)"
   ]
  },
  {
   "cell_type": "markdown",
   "id": "c890e5fe",
   "metadata": {},
   "source": [
    "## <span style=\"color:dodgerblue\"> 4.2 Creating a Continuous Nodes Plot - Color Bar Options\n",
    "    \n",
    "### The only option for color bars is the title for the color bar, which can be changed using the color_bar_title argument."
   ]
  },
  {
   "cell_type": "code",
   "execution_count": null,
   "id": "bb205f74",
   "metadata": {},
   "outputs": [],
   "source": [
    "#Defines a matplotlib figure and axis. The user can customize the size of the plot in this way.\n",
    "fig, ax = plt.subplots(figsize = (9,15))\n",
    "#Removes border from figure\n",
    "plt.box(False)\n",
    "#Creates continuous nodes plot of elevation with color bar title.\n",
    "vis.plot_continuous_nodes(model, ax, parameter='elevation', color_bar_title='Elevation (m)')"
   ]
  },
  {
   "cell_type": "markdown",
   "id": "67d6766d",
   "metadata": {},
   "source": [
    "## <span style=\"color:dodgerblue\"> 4.3 Creating a Continuous Nodes Plot - Color Map Options\n",
    "\n",
    "### Unlike discrete plotting, for continuous plots the only option available is cmap, which can be changed just as before."
   ]
  },
  {
   "cell_type": "code",
   "execution_count": null,
   "id": "ae21e0d9",
   "metadata": {},
   "outputs": [],
   "source": [
    "#Defines a matplotlib figure and axis. The user can customize the size of the plot in this way.\n",
    "fig, ax = plt.subplots(figsize = (9,15))\n",
    "#Removes border from figure\n",
    "plt.box(False)\n",
    "#Creates continuous nodes plot of elevation Greens cmap.\n",
    "vis.plot_continuous_nodes(model, ax, parameter='elevation', cmap='Greens')"
   ]
  }
 ],
 "metadata": {
  "kernelspec": {
   "display_name": "Python 3 (ipykernel)",
   "language": "python",
   "name": "python3"
  },
  "language_info": {
   "codemirror_mode": {
    "name": "ipython",
    "version": 3
   },
   "file_extension": ".py",
   "mimetype": "text/x-python",
   "name": "python",
   "nbconvert_exporter": "python",
   "pygments_lexer": "ipython3",
   "version": "3.8.13"
  }
 },
 "nbformat": 4,
 "nbformat_minor": 5
}
