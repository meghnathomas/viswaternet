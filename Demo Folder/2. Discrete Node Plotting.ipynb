{
 "cells": [
  {
   "cell_type": "markdown",
   "id": "f36bb444",
   "metadata": {},
   "source": [
    "# 2. Discrete Node Plotting - plot_discrete_nodes() Function Examples\n",
    "## See <span style=\"color:dodgerblue\"> 1.4</span> for already covered arguments"
   ]
  },
  {
   "cell_type": "markdown",
   "id": "ae44f11a",
   "metadata": {},
   "source": [
    "## <span style=\"color:dodgerblue\"> Import Libraries </span>"
   ]
  },
  {
   "cell_type": "code",
   "execution_count": null,
   "id": "0e28386e",
   "metadata": {},
   "outputs": [],
   "source": [
    "import wdn_viz_003 as wdn\n",
    "import matplotlib.pyplot as plt\n",
    "import os"
   ]
  },
  {
   "cell_type": "markdown",
   "id": "38c4aeb4",
   "metadata": {},
   "source": [
    "## <span style=\"color:dodgerblue\"> Runs Network EPANET simulation, and stores necessary information about network into a dataframe </span>"
   ]
  },
  {
   "cell_type": "code",
   "execution_count": null,
   "id": "211b5b7a",
   "metadata": {},
   "outputs": [],
   "source": [
    "#Initialize model\n",
    "model = wdn.initialize_model('Networks\\CTown.inp')\n",
    "\n",
    "#Define the file path for images. By default, this is the location where the python file is located.\n",
    "#Because of how Jupyter Notebook works, a relative path from the notebook can not be obtained.\n",
    "\n",
    "model['image_path'] = #Input path like r'D:\\Class Projects\\wdn-viz\\Demo Folder\\Images'"
   ]
  },
  {
   "cell_type": "markdown",
   "id": "5d8e1f7e",
   "metadata": {},
   "source": [
    "## <span style=\"color:dodgerblue\"> 2.1 Creating a Discrete Nodes Plot </span>\n",
    "\n",
    "### The only required argument is parameter. Without specifying parameter, an empty plot will be created. \n",
    "\n",
    "### The arguments get_tanks and get_reservoirs control whether the data for these elements are collected or not. Sometimes the datapoints for tanks/reservoirs can be significantly different from normal junctions, resulting in all junctions being put in one bin, while tanks/reservoirs are put in another. By default, get_tanks and get_reservoirs are set to False.\n",
    "\n",
    "### The arguments tanks, reservoirs, pumps, valves determine if these elements are drawn or not.\n",
    "\n",
    "### The unit argument can be used to convert to other units.\n",
    "\n",
    "### 'base_demand', 'elevation', 'emitter_coefficient', and 'initial_quality' are the possible inputs that can be taken with only the parameter argument.\n",
    "\n",
    "### <span style=\"color:mediumseagreen\"> 2.1.1 Not Specifying parameter Argument"
   ]
  },
  {
   "cell_type": "code",
   "execution_count": null,
   "id": "f190f129",
   "metadata": {},
   "outputs": [],
   "source": [
    "#Defines a matplotlib figure and axis. The user can customize the size of the plot in this way.\n",
    "fig, ax = plt.subplots(figsize = (9,15))\n",
    "\n",
    "#Using the function without specifying the parameter argument. Do not do this.\n",
    "wdn.plot_discrete_nodes(model, ax)"
   ]
  },
  {
   "cell_type": "markdown",
   "id": "cea1e435",
   "metadata": {},
   "source": [
    "### <span style=\"color:mediumseagreen\"> 2.1.2 Specifying parameter Argument"
   ]
  },
  {
   "cell_type": "code",
   "execution_count": null,
   "id": "a9dfd370",
   "metadata": {},
   "outputs": [],
   "source": [
    "#Defines a matplotlib figure and axis. The user can customize the size of the plot in this way.\n",
    "fig, ax = plt.subplots(figsize = (9,15))\n",
    "\n",
    "#Creates discrete nodes plot of elevation.\n",
    "wdn.plot_discrete_nodes(model, ax, parameter='elevation')"
   ]
  },
  {
   "cell_type": "markdown",
   "id": "db0755a2",
   "metadata": {},
   "source": [
    "### <span style=\"color:mediumseagreen\"> 2.1.3 Using tanks, reservoirs, pumps, valves Arguments"
   ]
  },
  {
   "cell_type": "code",
   "execution_count": null,
   "id": "bcda52b4",
   "metadata": {},
   "outputs": [],
   "source": [
    "#Defines a matplotlib figure and axis. The user can customize the size of the plot in this way.\n",
    "fig, ax = plt.subplots(figsize = (9,15))\n",
    "\n",
    "#Creates discrete nodes plot of elevation. Doesn't draw reservoirs, tanks, pumps or valves\n",
    "wdn.plot_discrete_nodes(model, ax, parameter='elevation',reservoirs=False,tanks=False, pumps=False, valves=False)"
   ]
  },
  {
   "cell_type": "markdown",
   "id": "1d032b5f",
   "metadata": {},
   "source": [
    "### <span style=\"color:mediumseagreen\"> 2.1.4 Using get_tanks and get_reservoirs Arguments"
   ]
  },
  {
   "cell_type": "code",
   "execution_count": null,
   "id": "95bc1d55",
   "metadata": {},
   "outputs": [],
   "source": [
    "#Defines a matplotlib figure and axis. The user can customize the size of the plot in this way.\n",
    "fig, ax = plt.subplots(figsize = (9,15))\n",
    "\n",
    "#Creates discrete nodes plot of elevation. Doesn't draw reservoirs, tanks, pumps or valves but does collect \n",
    "#tanks/reservoir datapoints\n",
    "wdn.plot_discrete_nodes(model, ax, parameter='elevation',reservoirs=False,tanks=False, pumps=False, valves=False, \n",
    "                        get_tanks=True, get_reservoirs=True)"
   ]
  },
  {
   "cell_type": "markdown",
   "id": "bd0068eb",
   "metadata": {},
   "source": [
    "### <span style=\"color:mediumseagreen\"> 2.1.5 Using unit Argument"
   ]
  },
  {
   "cell_type": "code",
   "execution_count": null,
   "id": "cf0ffe4d",
   "metadata": {},
   "outputs": [],
   "source": [
    "#Defines a matplotlib figure and axis. The user can customize the size of the plot in this way.\n",
    "fig, ax = plt.subplots(figsize = (9,15))\n",
    "\n",
    "#Creates discrete nodes plot of elevation in feet. \n",
    "wdn.plot_discrete_nodes(model, ax, parameter='elevation', unit='ft')"
   ]
  },
  {
   "cell_type": "markdown",
   "id": "61296973",
   "metadata": {},
   "source": [
    "## <span style=\"color:dodgerblue\"> 2.2 Creating a Discrete Nodes Plot - Value Argument Parameters\n",
    "    \n",
    "### Some parameters require an additional argument to be set. This argument is called value and can take an integer which represents the timestep, 'max', 'min', or 'mean'. \n",
    "    \n",
    "### 'head', 'demand', 'leak_demand', 'leak area', 'leak_discharg_coeff', and 'quality' are the possible inputs that can be taken when both parameter and value are used.\n",
    "\n",
    "### <span style=\"color:mediumseagreen\"> 2.2.1 Using Timestep Input"
   ]
  },
  {
   "cell_type": "code",
   "execution_count": null,
   "id": "06b11018",
   "metadata": {},
   "outputs": [],
   "source": [
    "#Defines a matplotlib figure and axis. The user can customize the size of the plot in this way.\n",
    "fig, ax = plt.subplots(figsize = (9,15))\n",
    "\n",
    "#Creates discrete nodes plot of pressure at timestep 6.\n",
    "wdn.plot_discrete_nodes(model, ax, parameter='pressure', value=6)"
   ]
  },
  {
   "cell_type": "markdown",
   "id": "c1e202af",
   "metadata": {},
   "source": [
    "### <span style=\"color:mediumseagreen\"> 2.2.2 Using 'max' Input"
   ]
  },
  {
   "cell_type": "code",
   "execution_count": null,
   "id": "cfe96b73",
   "metadata": {},
   "outputs": [],
   "source": [
    "#Defines a matplotlib figure and axis. The user can customize the size of the plot in this way.\n",
    "fig, ax = plt.subplots(figsize = (9,15))\n",
    "\n",
    "#Creates discrete nodes plot of max pressure over all timesteps.\n",
    "wdn.plot_discrete_nodes(model, ax, parameter='pressure', value='max')"
   ]
  },
  {
   "cell_type": "markdown",
   "id": "5e189718",
   "metadata": {},
   "source": [
    "### <span style=\"color:mediumseagreen\"> 2.2.3 Using 'min' Input"
   ]
  },
  {
   "cell_type": "code",
   "execution_count": null,
   "id": "a9e664ef",
   "metadata": {},
   "outputs": [],
   "source": [
    "#Defines a matplotlib figure and axis. The user can customize the size of the plot in this way.\n",
    "fig, ax = plt.subplots(figsize = (9,15))\n",
    "\n",
    "#Creates discrete nodes plot of min puressure over all timesteps.\n",
    "wdn.plot_discrete_nodes(model, ax, parameter='pressure', value='min')"
   ]
  },
  {
   "cell_type": "markdown",
   "id": "29149ad2",
   "metadata": {},
   "source": [
    "### <span style=\"color:mediumseagreen\"> 2.2.4 Using 'mean' Input"
   ]
  },
  {
   "cell_type": "code",
   "execution_count": null,
   "id": "56b7c112",
   "metadata": {},
   "outputs": [],
   "source": [
    "#Defines a matplotlib figure and axis. The user can customize the size of the plot in this way.\n",
    "fig, ax = plt.subplots(figsize = (9,15))\n",
    "\n",
    "#Creates discrete nodes plot of mean puressure over all timesteps.\n",
    "wdn.plot_discrete_nodes(model, ax, parameter='pressure', value='mean')"
   ]
  },
  {
   "cell_type": "markdown",
   "id": "61306891",
   "metadata": {},
   "source": [
    "## <span style=\"color:dodgerblue\"> 2.3 Creating a Discrete Nodes Plot - Bin Edges\n",
    "\n",
    "### By Default, the function will group the data into 5 bin edges, resulting in 4 distinct bins. This can be changed with the argument bin_edge_num.\n",
    "    \n",
    "### The argument bins is by default set to 'Automatic' and as a result, the function will automatically create the specified number of bin_edges. By setting the argument bins to an array of values, one can specify the exact bin edges one wants to use. The length of the array must be equal to bin_edge_num. One thing to take notice to is that the function will automatically create new bin edges if the specified bin edges does not contain all datapoints.\n",
    "    \n",
    "### <span style=\"color:mediumseagreen\"> 2.3.1 Setting bin_edge_num Argument"
   ]
  },
  {
   "cell_type": "code",
   "execution_count": null,
   "id": "161261fc",
   "metadata": {},
   "outputs": [],
   "source": [
    "#Defines a matplotlib figure and axis. The user can customize the size of the plot in this way.\n",
    "fig, ax = plt.subplots(figsize = (9,15))\n",
    "\n",
    "#Creates discrete nodes plot of elevation with 6 bin edges.\n",
    "wdn.plot_discrete_nodes(model, ax, parameter='elevation', bin_edge_num=6)"
   ]
  },
  {
   "cell_type": "markdown",
   "id": "95164677",
   "metadata": {},
   "source": [
    "### <span style=\"color:mediumseagreen\"> 2.3.2 Specifying Custom Bin Edges"
   ]
  },
  {
   "cell_type": "code",
   "execution_count": null,
   "id": "423d4459",
   "metadata": {},
   "outputs": [],
   "source": [
    "#Defines a matplotlib figure and axis. The user can customize the size of the plot in this way.\n",
    "fig, ax = plt.subplots(figsize = (9,15))\n",
    "\n",
    "#Creates discrete nodes plot of elevation with 6 bin edges and custom bin_edges.\n",
    "wdn.plot_discrete_nodes(model, ax, parameter='elevation',bin_edge_num=6,bins=[0,25,50,75,100,125])"
   ]
  },
  {
   "cell_type": "markdown",
   "id": "4a266c20",
   "metadata": {},
   "source": [
    "## <span style=\"color:dodgerblue\"> 2.4 Creating A Discrete Nodes Plot - Marker Customization Options\n",
    "    \n",
    "### The arguments bin_size_list, bin_shape_list, bin_border_list, bin_border_width_list, and bin_label_list are all marker/bin customization options available.\n",
    "    \n",
    "### Each of these arguments should be arrays, and the array length should equal to one less than the *actual* number of bin edges. Normally, this will be equal to the argument bin_edge_num, however, if custom bin edges are specified this may change if any datapoint does not fall into the custom bin edges provided.\n",
    "    \n",
    "### <span style=\"color:mediumseagreen\"> 2.4.1 Using bin_size_list Argument"
   ]
  },
  {
   "cell_type": "code",
   "execution_count": null,
   "id": "af1718f9",
   "metadata": {},
   "outputs": [],
   "source": [
    "#Defines a matplotlib figure and axis. The user can customize the size of the plot in this way.\n",
    "fig, ax = plt.subplots(figsize = (9,15))\n",
    "\n",
    "#Creates discrete nodes plot of elevation with custom node sizes.\n",
    "wdn.plot_discrete_nodes(model, ax, parameter='elevation', bin_size_list=[100,150,200,500])"
   ]
  },
  {
   "cell_type": "markdown",
   "id": "3d526976",
   "metadata": {},
   "source": [
    "### <span style=\"color:mediumseagreen\"> 2.4.2 Using bin_shape_list Argument"
   ]
  },
  {
   "cell_type": "code",
   "execution_count": null,
   "id": "a0380d10",
   "metadata": {},
   "outputs": [],
   "source": [
    "#Defines a matplotlib figure and axis. The user can customize the size of the plot in this way.\n",
    "fig, ax = plt.subplots(figsize = (9,15))\n",
    "\n",
    "#Creates discrete nodes plot of elevation with custom node markers.\n",
    "wdn.plot_discrete_nodes(model, ax, parameter='elevation', bin_shape_list=['*','8','X','.'])"
   ]
  },
  {
   "cell_type": "markdown",
   "id": "dcb1345c",
   "metadata": {},
   "source": [
    "### <span style=\"color:mediumseagreen\"> 2.4.3 Using bin_border_list and bin_border_width_list Arguments"
   ]
  },
  {
   "cell_type": "code",
   "execution_count": null,
   "id": "3d3b40a4",
   "metadata": {},
   "outputs": [],
   "source": [
    "#Defines a matplotlib figure and axis. The user can customize the size of the plot in this way.\n",
    "fig, ax = plt.subplots(figsize = (9,15))\n",
    "\n",
    "#Creates discrete nodes plot of elevation with custom node borders.\n",
    "wdn.plot_discrete_nodes(model, ax, parameter='elevation', bin_border_list=['b','r','g','k'], \n",
    "                                                          bin_border_width_list=[1,1.5,1.7,1])"
   ]
  },
  {
   "cell_type": "markdown",
   "id": "991688eb",
   "metadata": {},
   "source": [
    "### <span style=\"color:mediumseagreen\"> 2.4.4 Using bin_label_list Argument"
   ]
  },
  {
   "cell_type": "code",
   "execution_count": null,
   "id": "749d77d5",
   "metadata": {},
   "outputs": [],
   "source": [
    "#Defines a matplotlib figure and axis. The user can customize the size of the plot in this way.\n",
    "fig, ax = plt.subplots(figsize = (9,15))\n",
    "\n",
    "#Creates discrete nodes plot of elevation with custom bin labels.\n",
    "wdn.plot_discrete_nodes(model, ax, parameter='elevation', bin_label_list=['Group 1', 'Group 2', 'Group 3', 'Group 4'])"
   ]
  },
  {
   "cell_type": "markdown",
   "id": "93a3da53",
   "metadata": {},
   "source": [
    "## <span style=\"color:dodgerblue\"> 2.5 Creating A Discrete Nodes Plot - Legend Arguments\n",
    "\n",
    "### The available legend arguments are legend, legend_title, legend_loc_1, and legend_loc_2. \n",
    "\n",
    "### legend determines if the legend is drawn, while legend_title determines the legend title of the bin legend only. legend_loc_1 determines the location of the 1st legend, which includes all the basic elements such as pumps or tanks, while legend_loc_2 determines the location of the bin legend.\n",
    "\n",
    "### <span style=\"color:mediumseagreen\"> 2.5.1 Using legend Argument"
   ]
  },
  {
   "cell_type": "code",
   "execution_count": null,
   "id": "e716d94e",
   "metadata": {},
   "outputs": [],
   "source": [
    "#Defines a matplotlib figure and axis. The user can customize the size of the plot in this way.\n",
    "fig, ax = plt.subplots(figsize = (9,15))\n",
    "\n",
    "#Creates discrete nodes plot of elevation, but doesn't draw the legend.\n",
    "wdn.plot_discrete_nodes(model, ax, parameter='elevation', legend=False)"
   ]
  },
  {
   "cell_type": "markdown",
   "id": "8a5f1c98",
   "metadata": {},
   "source": [
    "### <span style=\"color:mediumseagreen\"> 2.5.2 Using legend_title Argument"
   ]
  },
  {
   "cell_type": "code",
   "execution_count": null,
   "id": "ce0d5061",
   "metadata": {},
   "outputs": [],
   "source": [
    "#Defines a matplotlib figure and axis. The user can customize the size of the plot in this way.\n",
    "fig, ax = plt.subplots(figsize = (9,15))\n",
    "\n",
    "#Creates discrete nodes plot of elevation, but doesn't draw the legend.\n",
    "wdn.plot_discrete_nodes(model, ax, parameter='elevation', legend_title=\"Elevation Groups\")"
   ]
  },
  {
   "cell_type": "markdown",
   "id": "4699c720",
   "metadata": {},
   "source": [
    "### <span style=\"color:mediumseagreen\"> 2.5.3 Using Legend Location Arguments"
   ]
  },
  {
   "cell_type": "code",
   "execution_count": null,
   "id": "236a9fdb",
   "metadata": {},
   "outputs": [],
   "source": [
    "#Defines a matplotlib figure and axis. The user can customize the size of the plot in this way.\n",
    "fig, ax = plt.subplots(figsize = (9,15))\n",
    "\n",
    "#Creates discrete nodes plot of elevation, but doesn't draw the legend.\n",
    "wdn.plot_discrete_nodes(model, ax, parameter='elevation', legend_loc_1='upper left', legend_loc_2='lower left')"
   ]
  },
  {
   "cell_type": "markdown",
   "id": "6f8d1a86",
   "metadata": {},
   "source": [
    "## <span style=\"color:dodgerblue\"> 2.6 Creating a Discrete Nodes Plot - Color Mapping\n",
    "    \n",
    "### The Arguments cmap and color_list are used to color the nodes by what bin they are in. The default cmap for all functions is 'autumn_r' and color_list is set to None. cmap is useful for automatically coloring bins according to a color scheme, but for more percise control of the colors of each bin, color_list should be used. If using color_list, cmap must be set to None.\\\n",
    "    \n",
    "### <span style=\"color:mediumseagreen\"> 2.6.1 Using cmap Argument"
   ]
  },
  {
   "cell_type": "code",
   "execution_count": null,
   "id": "d7a8fe32",
   "metadata": {},
   "outputs": [],
   "source": [
    "#Defines a matplotlib figure and axis. The user can customize the size of the plot in this way.\n",
    "fig, ax = plt.subplots(figsize = (9,15))\n",
    "\n",
    "#Creates discrete nodes plot of elevation using tab10 cmap.\n",
    "wdn.plot_discrete_nodes(model, ax, parameter='elevation', cmap='tab10')"
   ]
  },
  {
   "cell_type": "markdown",
   "id": "692463d2",
   "metadata": {},
   "source": [
    "### <span style=\"color:mediumseagreen\"> 2.6.2 Using color_list Argument"
   ]
  },
  {
   "cell_type": "code",
   "execution_count": null,
   "id": "f17c1087",
   "metadata": {},
   "outputs": [],
   "source": [
    "#Defines a matplotlib figure and axis. The user can customize the size of the plot in this way.\n",
    "fig, ax = plt.subplots(figsize = (9,15))\n",
    "\n",
    "#Creates discrete nodes plot of elevation using custom color list.\n",
    "wdn.plot_discrete_nodes(model, ax, parameter='elevation', cmap=None,\n",
    "                        color_list=['#9467bd', '#8c564b', '#e377c2', '#7f7f7f'])"
   ]
  }
 ],
 "metadata": {
  "kernelspec": {
   "display_name": "Python 3 (ipykernel)",
   "language": "python",
   "name": "python3"
  },
  "language_info": {
   "codemirror_mode": {
    "name": "ipython",
    "version": 3
   },
   "file_extension": ".py",
   "mimetype": "text/x-python",
   "name": "python",
   "nbconvert_exporter": "python",
   "pygments_lexer": "ipython3",
   "version": "3.8.13"
  }
 },
 "nbformat": 4,
 "nbformat_minor": 5
}
