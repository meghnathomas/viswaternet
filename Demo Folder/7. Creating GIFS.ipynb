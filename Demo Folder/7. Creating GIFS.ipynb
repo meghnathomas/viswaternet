{
 "cells": [
  {
   "cell_type": "markdown",
   "id": "358cac1e",
   "metadata": {},
   "source": [
    "# 7. Creating GIFS - animate_plot() Function Examples\n",
    "\n",
    "## See <span style=\"color:dodgerblue\"> *ALL*</span> other sections for already covered arguments"
   ]
  },
  {
   "cell_type": "markdown",
   "id": "660bcba7",
   "metadata": {},
   "source": [
    "## <span style=\"color:dodgerblue\"> Import Libraries </span>"
   ]
  },
  {
   "cell_type": "code",
   "execution_count": null,
   "id": "ab97c1e3",
   "metadata": {},
   "outputs": [],
   "source": [
    "import wdn_viz_003 as wdn\n",
    "import matplotlib.pyplot as plt"
   ]
  },
  {
   "cell_type": "markdown",
   "id": "452c41b5",
   "metadata": {},
   "source": [
    "## <span style=\"color:dodgerblue\"> Runs Network EPANET simulation, and stores necessary information about network into a dataframe </span>"
   ]
  },
  {
   "cell_type": "code",
   "execution_count": null,
   "id": "08de7729",
   "metadata": {},
   "outputs": [],
   "source": [
    "#Initialize model\n",
    "model = wdn.initialize_model('Networks\\CTown.inp')\n",
    "\n",
    "#Define the file path for images. By default, this is the location where the python file is located.\n",
    "#Because of how Jupyter Notebook works, a relative path from the notebook can not be obtained.\n",
    "\n",
    "model['image_path'] = #Input path like r'D:\\Class Projects\\wdn-viz\\Demo Folder\\Images'"
   ]
  },
  {
   "cell_type": "markdown",
   "id": "d4425482",
   "metadata": {},
   "source": [
    "## <span style=\"color:dodgerblue\"> 7.1 Creating GIFS - Basics</span>\n",
    "\n",
    "### To animate a plot, one needs at a minimum 3 arguments: model, ax, and function. The function argument is simply the actual function you are animating. \n",
    "\n",
    "### All other arguments needed depend on what your function argument. All arguments for the function being animated are usable in animate_plot."
   ]
  },
  {
   "cell_type": "code",
   "execution_count": null,
   "id": "a6935278",
   "metadata": {},
   "outputs": [],
   "source": [
    "#Animates pressure at all timesteps\n",
    "fig, ax = plt.subplots(figsize=(15,25))\n",
    "\n",
    "#Creates an .gif file that goes through all timesteps, creating a discrete nodes plot of pressure at each of these timesteps.\n",
    "wdn.animate_plot(model,ax,wdn.plot_discrete_nodes,\n",
    "                 bin_edge_num=5,\n",
    "                 bins=[-0.0001,20,40,60,80],\n",
    "                 parameter='pressure')"
   ]
  },
  {
   "cell_type": "markdown",
   "id": "59994dbe",
   "metadata": {},
   "source": [
    "## <span style=\"color:dodgerblue\"> 7.2 Creating GIFS - GIF Customization</span>\n",
    "\n",
    "### The customization arguments present are fps, first_timestep, last_timestep, and gif_save_name.\n",
    "\n",
    "### The fps argument determines how quickly the gif file will move on to the next timestep.\n",
    "\n",
    "### first_timestep determimes the starting timestep, while last_timestep determines the ending timestep.\n",
    "\n",
    "### gif_save_name functions the same as save_name for all other functions. "
   ]
  },
  {
   "cell_type": "code",
   "execution_count": null,
   "id": "8a40d1c4",
   "metadata": {},
   "outputs": [],
   "source": [
    "#Animates pressure\n",
    "fig, ax = plt.subplots(figsize=(15,25))\n",
    "wdn.animate_plot(model,ax,wdn.plot_discrete_nodes,\n",
    "                 fps = 5,\n",
    "                 first_timestep=0,last_timestep=30,\n",
    "                 bin_edge_num=5,\n",
    "                 bins=[-0.0001,20,40,60,80],\n",
    "                 parameter='pressure',\n",
    "                 gif_save_name='Customized')"
   ]
  },
  {
   "cell_type": "code",
   "execution_count": null,
   "id": "291092e1",
   "metadata": {},
   "outputs": [],
   "source": []
  }
 ],
 "metadata": {
  "kernelspec": {
   "display_name": "Python 3 (ipykernel)",
   "language": "python",
   "name": "python3"
  },
  "language_info": {
   "codemirror_mode": {
    "name": "ipython",
    "version": 3
   },
   "file_extension": ".py",
   "mimetype": "text/x-python",
   "name": "python",
   "nbconvert_exporter": "python",
   "pygments_lexer": "ipython3",
   "version": "3.8.13"
  }
 },
 "nbformat": 4,
 "nbformat_minor": 5
}
