{
 "cells": [
  {
   "cell_type": "markdown",
   "id": "e127fb8a",
   "metadata": {},
   "source": [
    "#  1. Basic Plotting - plot_basic_elements() Function Examples"
   ]
  },
  {
   "cell_type": "markdown",
   "id": "e621d4c3",
   "metadata": {},
   "source": [
    "## <span style=\"color:dodgerblue\"> Import Libraries </span>"
   ]
  },
  {
   "cell_type": "code",
   "execution_count": null,
   "id": "6ea37d45",
   "metadata": {},
   "outputs": [],
   "source": [
    "import wdn_viz_003 as wdn\n",
    "import matplotlib.pyplot as plt"
   ]
  },
  {
   "cell_type": "markdown",
   "id": "bdcf7057",
   "metadata": {},
   "source": [
    "## <span style=\"color:dodgerblue\"> Runs Network EPANET simulation, and stores necessary information about network into a dataframe </span>"
   ]
  },
  {
   "cell_type": "code",
   "execution_count": null,
   "id": "a01f2337",
   "metadata": {},
   "outputs": [],
   "source": [
    "#Initialize model\n",
    "model = wdn.initialize_model('Networks\\CTown.inp')\n",
    "\n",
    "#Define the file path for images. By default, this is the location where the python file is located.\n",
    "#Because of how Jupyter Notebook works, a relative path from the notebook can not be obtained.\n",
    "\n",
    "model['image_path'] = #Input path like r'D:\\Class Projects\\wdn-viz\\Demo Folder\\Images'"
   ]
  },
  {
   "cell_type": "markdown",
   "id": "dfdd181a",
   "metadata": {},
   "source": [
    "## <span style=\"color:dodgerblue\"> 1.1 Creating a Basic Plot </span>\n",
    "### When no optional arguments are given to the function, it creates a barebones plot of the network, similar to one seen in EPANET. \n",
    "\n",
    "### The marker styles used are the default ones used throughout all functions. Reservoirs are black squares, tanks are black diamonds, pipes are black edges, pumps are blue edges, and valves are represented by orange '+' markers shown at the center point of the valve edge."
   ]
  },
  {
   "cell_type": "code",
   "execution_count": null,
   "id": "aa393055",
   "metadata": {},
   "outputs": [],
   "source": [
    "# Defines a matplotlib figure and axis. The user can customize the size of the plot in this way.\n",
    "fig, ax = plt.subplots(figsize = (9,15))\n",
    "\n",
    "# Creates plot of network with basic elements.\n",
    "wdn.plot_basic_elements(model,ax)"
   ]
  },
  {
   "cell_type": "markdown",
   "id": "d857e889",
   "metadata": {},
   "source": [
    "## <span style=\"color:dodgerblue\"> 1.2 Creating a Basic Plot - Selectively Choosing What Elements Are Drawn\n",
    "\n",
    "### All elements of a network can be specified to be drawn on the plot or not. The elements are nodes, links, reservoirs, tanks, pipes, and valves. \n",
    "\n",
    "### <span style=\"color:mediumseagreen\"> 1.2.1 No Nodes"
   ]
  },
  {
   "cell_type": "code",
   "execution_count": null,
   "id": "7cc4e809",
   "metadata": {},
   "outputs": [],
   "source": [
    "# Defines a matplotlib figure and axis. The user can customize the size of the plot in this way.\n",
    "fig, ax = plt.subplots(figsize = (9,15))\n",
    "\n",
    "# Creates plot of network with basic elements.\n",
    "wdn.plot_basic_elements(model,ax,nodes=False)"
   ]
  },
  {
   "cell_type": "markdown",
   "id": "f192547b",
   "metadata": {},
   "source": [
    "### <span style=\"color:mediumseagreen\"> 1.2.2 Links Only"
   ]
  },
  {
   "cell_type": "code",
   "execution_count": null,
   "id": "70fb76cb",
   "metadata": {},
   "outputs": [],
   "source": [
    "# Defines a matplotlib figure and axis. The user can customize the size of the plot in this way.\n",
    "fig, ax = plt.subplots(figsize = (9,15))\n",
    "\n",
    "# Creates plot of network with basic elements.\n",
    "wdn.plot_basic_elements(model,ax,nodes=False, reservoirs=False,tanks=False,valves=False,pumps=False)"
   ]
  },
  {
   "cell_type": "markdown",
   "id": "aa4f5bb2",
   "metadata": {},
   "source": [
    "### <span style=\"color:mediumseagreen\"> 1.2.3 No Reservoirs, Tanks, Valves, Pumps"
   ]
  },
  {
   "cell_type": "code",
   "execution_count": null,
   "id": "2f1efb7e",
   "metadata": {},
   "outputs": [],
   "source": [
    "# Defines a matplotlib figure and axis. The user can customize the size of the plot in this way.\n",
    "fig, ax = plt.subplots(figsize = (9,15))\n",
    "\n",
    "# Creates plot of network with basic elements.\n",
    "wdn.plot_basic_elements(model,ax, reservoirs=False,tanks=False,valves=False,pumps=False)"
   ]
  },
  {
   "cell_type": "markdown",
   "id": "919756be",
   "metadata": {},
   "source": [
    "## <span style=\"color:dodgerblue\"> 1.3 Creating a Basic Plot - Legend Drawing\n",
    "\n",
    "### By default, the legend for the elements is drawn. However, one can choose not to draw the legend by setting the argument legend to false\n",
    "\n",
    "### Additionally, one can specify the location of the legend with the argument legend_loc. By default it is 'upper right'\n",
    "\n",
    "### <span style=\"color:mediumseagreen\"> 1.3.1 Using legend Argument"
   ]
  },
  {
   "cell_type": "code",
   "execution_count": null,
   "id": "d954fd50",
   "metadata": {},
   "outputs": [],
   "source": [
    "# Defines a matplotlib figure and axis. The user can customize the size of the plot in this way.\n",
    "fig, ax = plt.subplots(figsize = (9,15))\n",
    "\n",
    "# Creates plot of network with basic elements, but the legend isn't drawn.\n",
    "wdn.plot_basic_elements(model,ax, legend=False)"
   ]
  },
  {
   "cell_type": "markdown",
   "id": "9bd2f494",
   "metadata": {},
   "source": [
    "### <span style=\"color:mediumseagreen\"> 1.3.2 Using legend_loc Argument"
   ]
  },
  {
   "cell_type": "code",
   "execution_count": null,
   "id": "ced9bbdd",
   "metadata": {},
   "outputs": [],
   "source": [
    "# Defines a matplotlib figure and axis. The user can customize the size of the plot in this way.\n",
    "fig, ax = plt.subplots(figsize = (9,15))\n",
    "\n",
    "# Creates plot of network with basic elements, with legend in the lower left.\n",
    "wdn.plot_basic_elements(model,ax, legend_loc='lower left')"
   ]
  },
  {
   "cell_type": "markdown",
   "id": "ed8e2c93",
   "metadata": {},
   "source": [
    "## <span style=\"color:dodgerblue\"> 1.4 Creating a Basic Plot - Plot Saving\n",
    "\n",
    "### By default, the function saves the plot to wherever model\\['image_path'] points to. The optional argument savefig can be set to True or False, and determines if the plot is saved. This is set to True by default.\n",
    "\n",
    "### The argument save_name can be specified. By default, the save name of the plot, if saved, is the name of the network. By specifiying something for the save_name argument, it will prepend that to the name of the network.  \n",
    "\n",
    "### <span style=\"color:mediumseagreen\">1.4.1 Opting To Not Save The Plot"
   ]
  },
  {
   "cell_type": "code",
   "execution_count": null,
   "id": "e685c05d",
   "metadata": {},
   "outputs": [],
   "source": [
    "# Defines a matplotlib figure and axis. The user can customize the size of the plot in this way.\n",
    "fig, ax = plt.subplots(figsize = (9,15))\n",
    "\n",
    "# Creates plot of network with basic elements, but doesn't save the plot to storage.\n",
    "wdn.plot_basic_elements(model,ax)"
   ]
  },
  {
   "cell_type": "markdown",
   "id": "ccfd8c14",
   "metadata": {},
   "source": [
    "### <span style=\"color:mediumseagreen\">1.4.2 Specifiying save_name Argument "
   ]
  },
  {
   "cell_type": "code",
   "execution_count": null,
   "id": "aa1850d5",
   "metadata": {},
   "outputs": [],
   "source": [
    "# Defines a matplotlib figure and axis. The user can customize the size of the plot in this way.\n",
    "fig, ax = plt.subplots(figsize = (9,15))\n",
    "\n",
    "# Creates plot of network with basic elements. The output name of the saved .png file will be 'BasicCTown.png'\n",
    "wdn.plot_basic_elements(model,ax, save_name='Basic')"
   ]
  }
 ],
 "metadata": {
  "kernelspec": {
   "display_name": "Python 3 (ipykernel)",
   "language": "python",
   "name": "python3"
  },
  "language_info": {
   "codemirror_mode": {
    "name": "ipython",
    "version": 3
   },
   "file_extension": ".py",
   "mimetype": "text/x-python",
   "name": "python",
   "nbconvert_exporter": "python",
   "pygments_lexer": "ipython3",
   "version": "3.8.13"
  }
 },
 "nbformat": 4,
 "nbformat_minor": 5
}
