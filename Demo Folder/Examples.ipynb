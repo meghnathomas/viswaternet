{
 "cells": [
  {
   "cell_type": "code",
   "execution_count": null,
   "id": "f19e2560",
   "metadata": {},
   "outputs": [],
   "source": [
    "import wdn_viz_003 as wdn\n",
    "import matplotlib.pyplot as plt"
   ]
  },
  {
   "cell_type": "code",
   "execution_count": null,
   "id": "400409b2",
   "metadata": {},
   "outputs": [],
   "source": [
    "#Runs simulations and stores necessary information about network and the simulation in a dataframe\n",
    "model = wdn.initialize_model('Networks\\CTown.inp')\n",
    "model['image_path'] = 'D:\\Class Projects\\wdn-viz\\Base Codes\\Images'"
   ]
  },
  {
   "cell_type": "code",
   "execution_count": null,
   "id": "600a128f",
   "metadata": {},
   "outputs": [],
   "source": [
    "#Defines a matplotlib figure and axis.\n",
    "fig, ax = plt.subplots(figsize=(15,25))\n",
    "#Creates plot of network with basic elements\n",
    "wdn.plot_basic_elements(model,ax)"
   ]
  },
  {
   "cell_type": "code",
   "execution_count": null,
   "id": "29f3e03d",
   "metadata": {},
   "outputs": [],
   "source": [
    "#Plots links and pumps only without legend\n",
    "fig, ax = plt.subplots(figsize=(15,25))\n",
    "wdn.plot_basic_elements(model,ax,nodes=False,links=True,reservoirs=False,tanks=False,pumps=True,legend=False)"
   ]
  },
  {
   "cell_type": "code",
   "execution_count": null,
   "id": "9fe0ebac",
   "metadata": {},
   "outputs": [],
   "source": [
    "#Plots basic elements but does not save the image. The save name can also be changed with save_name function input.\n",
    "fig, ax = plt.subplots(figsize=(15,25))\n",
    "wdn.plot_basic_elements(model,ax,savefig=False, save_name='Basic')"
   ]
  },
  {
   "cell_type": "code",
   "execution_count": null,
   "id": "c2509c63",
   "metadata": {},
   "outputs": [],
   "source": [
    "fig, ax = plt.subplots(figsize=(15,25))\n",
    "#Plots network parameter that does not change with time. \n",
    "wdn.plot_discrete_nodes(model,ax,5,parameter='elevation',legend=False)"
   ]
  },
  {
   "cell_type": "code",
   "execution_count": null,
   "id": "0147d230",
   "metadata": {},
   "outputs": [],
   "source": [
    "fig, ax = plt.subplots(figsize=(15,25))\n",
    "#Plots network parameter that changes with time (pressure, demand, etc.) at timestep 13\n",
    "wdn.plot_discrete_nodes(model,ax,5,parameter='pressure', value=12)"
   ]
  },
  {
   "cell_type": "code",
   "execution_count": null,
   "id": "8a443788",
   "metadata": {},
   "outputs": [],
   "source": [
    "fig, ax = plt.subplots(figsize=(15,25))\n",
    "#Plots network max pressure. Can also plot min, mean, or median pressure/other parameters.\n",
    "wdn.plot_discrete_nodes(model,ax,5,parameter='pressure', value='max')"
   ]
  },
  {
   "cell_type": "code",
   "execution_count": null,
   "id": "40311453",
   "metadata": {},
   "outputs": [],
   "source": [
    "fig, ax = plt.subplots(figsize=(15,25))\n",
    "#Plots network max pressure with custom bins\n",
    "wdn.plot_discrete_nodes(model,ax,5,bins=[-0.0001,20,40,60,80],parameter='pressure', value='max')"
   ]
  },
  {
   "cell_type": "code",
   "execution_count": null,
   "id": "f511e39a",
   "metadata": {},
   "outputs": [],
   "source": [
    "fig, ax = plt.subplots(figsize=(15,25))\n",
    "#Plots network elevation with all customization options used\n",
    "wdn.plot_discrete_nodes(model,ax,5,parameter='elevation',bin_size_list = [100,125,150,175,200], bin_shape_list = ['.','v','8','D','1'], bin_border_list=['b','k','y','b','k'],bin_border_width_list=[1,1.1,0.5,0.9,1],cmap=None,color_list=['#9467bd', '#8c564b', '#e377c2', '#7f7f7f', '#bcbd22'],savefig=True, legend_title= 'Elevation Groups', save_name = 'ElevationMap2')"
   ]
  },
  {
   "cell_type": "code",
   "execution_count": null,
   "id": "7b21d511",
   "metadata": {},
   "outputs": [],
   "source": [
    "fig, ax = plt.subplots(figsize=(15,25))\n",
    "#Plots network elevation continuously with color bar.\n",
    "wdn.plot_continuous_nodes(model,ax,parameter='elevation',color_bar_title=\"Elevation\", save_name=\"ContinuousElevation\")"
   ]
  },
  {
   "cell_type": "code",
   "execution_count": null,
   "id": "2b0226cd",
   "metadata": {},
   "outputs": [],
   "source": [
    "fig, ax = plt.subplots(figsize=(15,25))\n",
    "#Plots mean network demand with autumn color map and node shape 'X' with node size 75\n",
    "wdn.plot_continuous_nodes(model,ax,parameter='demand',value='mean',cmap='autumn',node_shape='X',node_size=75,color_bar_title=\"Demand\", save_name=\"ContinuousDemand\")"
   ]
  },
  {
   "cell_type": "code",
   "execution_count": null,
   "id": "287c52b4",
   "metadata": {},
   "outputs": [],
   "source": [
    "fig, ax = plt.subplots(figsize=(15,25))\n",
    "#Plots mean flowrate with 5 bin edges.\n",
    "wdn.plot_discrete_links(model,ax,5,parameter='flowrate',value='mean',pumps=False)"
   ]
  },
  {
   "cell_type": "code",
   "execution_count": null,
   "id": "401f7e23",
   "metadata": {},
   "outputs": [],
   "source": [
    "fig, ax = plt.subplots(figsize=(15,25))\n",
    "#Plots mean flowrate with 5 bin edges with custom bin edges, no reservoirs or tanks and custom cmap\n",
    "wdn.plot_discrete_links(model,ax,5,parameter='flowrate',value='mean',bin_width_list=[1,1,2,2], reservoirs=False,tanks=False,cmap='autumn')"
   ]
  },
  {
   "cell_type": "code",
   "execution_count": null,
   "id": "d718759a",
   "metadata": {},
   "outputs": [],
   "source": [
    "fig, ax = plt.subplots(figsize=(15,25))\n",
    "ax.set_facecolor((0.1, 0.1, 0.1))\n",
    "#Plots continuous mean flowrate, with min_width and max_width being set equal to each other. Uses gray background to better see plot.\n",
    "wdn.plot_continuous_links(model,ax,parameter='flowrate',value='mean', cmap='bwr', pumps=False, min_width=1,max_width=1)"
   ]
  },
  {
   "cell_type": "code",
   "execution_count": null,
   "id": "ec00a1a6",
   "metadata": {},
   "outputs": [],
   "source": [
    "fig, ax = plt.subplots(figsize=(15,25))\n",
    "ax.set_facecolor((0.1, 0.1, 0.1))\n",
    "#Plots continuous mean flowrate, with min_width and max_width being set to different values. Uses gray background to better see plot.\n",
    "wdn.plot_continuous_links(model,ax,parameter='flowrate',value='mean', cmap='bwr', pumps=False, min_width=1,max_width=3)"
   ]
  },
  {
   "cell_type": "code",
   "execution_count": null,
   "id": "6ac76d21",
   "metadata": {},
   "outputs": [],
   "source": [
    "#Special Labels\n",
    "fig, ax = plt.subplots(figsize=(15,25))\n",
    "#Draws distinct elevation.\n",
    "wdn.plot_discrete_nodes(model,ax,5,parameter='elevation')\n",
    "#Draws label without providing list of nodes. This means that the coordinates provided (the first set being x and the second being y coordinates) are absolute from 0 to 1. \n",
    "wdn.draw_label(model,ax,['label','not a label'],[0.5,0.3],[0.1,0.7])\n",
    "#Draws label by providing list of nodes. This means that coordiantes are relative, and the value you will need to input will depend on the network.\n",
    "wdn.draw_label(model,ax,['label2','really not a label trust me'],[50,-50],[75,20],nodes=['J511','J411'])"
   ]
  },
  {
   "cell_type": "code",
   "execution_count": null,
   "id": "16af3592",
   "metadata": {},
   "outputs": [],
   "source": [
    "#Special Labels\n",
    "fig, ax = plt.subplots(figsize=(15,25))\n",
    "#Draws distinct elevation.\n",
    "wdn.plot_discrete_nodes(model,ax,5,parameter='elevation')\n",
    "#Plots red square with black outline at specific nodes\n",
    "wdn.draw_nodes(model,['J511','J411'],node_size=300,node_color='r',node_shape='s',edge_colors='k',line_widths=2)"
   ]
  },
  {
   "cell_type": "code",
   "execution_count": null,
   "id": "bf53a00c",
   "metadata": {},
   "outputs": [],
   "source": [
    "#Combination of distinct nodes + continuous links\n",
    "fig, ax = plt.subplots(figsize=(15,25))\n",
    "ax.set_facecolor((0.1, 0.1, 0.1))\n",
    "wdn.plot_discrete_nodes(model,ax,5,parameter='elevation',savefig=True, legend_title= 'Elevation Groups', save_name = 'ElevationMap')\n",
    "\n",
    "wdn.plot_continuous_links(model,ax,parameter='flowrate',value=11,pumps=False,cmap='bwr',color_bar_title=\"Flowrate\", save_name=\"ContinuousFlowrate\")"
   ]
  },
  {
   "cell_type": "code",
   "execution_count": null,
   "id": "e414681a",
   "metadata": {},
   "outputs": [],
   "source": [
    "#Subplotting\n",
    "fig, (ax1,ax2) = plt.subplots(nrows=1, ncols=2,figsize=(25,25),sharex=True,sharey=True)\n",
    "ax2.set_facecolor((0.1, 0.1, 0.1))\n",
    "\n",
    "wdn.plot_discrete_nodes(model,ax1,5,parameter='elevation',savefig=True, legend_title= 'Elevation Groups', save_name = 'ElevationMap')\n",
    "\n",
    "wdn.plot_continuous_links(model,ax2,parameter='flowrate',value=11,pumps=False,cmap='bwr',color_bar_title=\"Flowrate\", save_name=\"ContinuousFlowrate\")"
   ]
  },
  {
   "cell_type": "code",
   "execution_count": null,
   "id": "bee6c9da",
   "metadata": {},
   "outputs": [],
   "source": [
    "fig, ax = plt.subplots(figsize=(15,25))\n",
    "#Plots unique pipe diameters\n",
    "wdn.plot_unique_data(model,ax,parameter='diameter')"
   ]
  },
  {
   "cell_type": "code",
   "execution_count": null,
   "id": "bca2d214",
   "metadata": {},
   "outputs": [],
   "source": [
    "fig, ax = plt.subplots(figsize=(15,25))\n",
    "#Plots demand patterns\n",
    "wdn.plot_unique_data(model,ax,parameter='demand_patterns')"
   ]
  },
  {
   "cell_type": "code",
   "execution_count": null,
   "id": "8963780e",
   "metadata": {},
   "outputs": [],
   "source": [
    "fig, ax = plt.subplots(figsize=(15,25))\n",
    "#Plots node tags\n",
    "wdn.plot_unique_data(model,ax,parameter='tag',cmap='tab10')"
   ]
  },
  {
   "cell_type": "code",
   "execution_count": null,
   "id": "3cd13f7b",
   "metadata": {},
   "outputs": [],
   "source": [
    "model = wdn.initialize_model('Networks\\\\NWC_old_stations.inp')\n",
    "model['image_path'] = 'D:\\Class Projects\\wdn-viz\\Base Codes\\Images'\n",
    "fig, ax = plt.subplots(figsize=(15,25))\n",
    "#Plots unique data from excel file\n",
    "wdn.plot_unique_data(model,ax,parameter='NWC Pipes.xlsx',parameter_type='link',data_type='unique',excel_columns=[0,1],reservoirs=False,tanks=False,valves=False)"
   ]
  },
  {
   "cell_type": "code",
   "execution_count": null,
   "id": "3e9465ab",
   "metadata": {},
   "outputs": [],
   "source": [
    "fig, ax = plt.subplots(figsize=(15,25))\n",
    "#Plots continuous excel data\n",
    "wdn.plot_unique_data(model,ax,parameter='NWC Pipes.xlsx',parameter_type='link',data_type='continuous',excel_columns=[0,3],cmap='autumn_r',max_width=2)"
   ]
  },
  {
   "cell_type": "code",
   "execution_count": null,
   "id": "c14650cb",
   "metadata": {},
   "outputs": [],
   "source": [
    "fig, ax = plt.subplots(figsize=(15,25))\n",
    "#Plots discrete excel data\n",
    "wdn.plot_unique_data(model,ax,parameter='NWC Pipes.xlsx',parameter_type='link',data_type='discrete',bin_edge_num=5,excel_columns=[0,3],cmap='autumn_r',max_width=2)"
   ]
  },
  {
   "cell_type": "code",
   "execution_count": null,
   "id": "1f0d569c",
   "metadata": {},
   "outputs": [],
   "source": [
    "#Special continuous numerical data in python\n",
    "import random\n",
    "fig, ax = plt.subplots(figsize=(15,25))\n",
    "data = []\n",
    "index = []\n",
    "\n",
    "for node in model['node_names']:\n",
    "    data.append(random.randint(0,100))\n",
    "    index.append(node)\n",
    "    \n",
    "wdn.plot_unique_data(model,ax,parameter='custom_data',data_type='continuous',parameter_type='node',customDataValues=[index,data],cmap='autumn')"
   ]
  },
  {
   "cell_type": "code",
   "execution_count": null,
   "id": "d9e5c9b3",
   "metadata": {},
   "outputs": [],
   "source": [
    "#Special discrete numerical data in python\n",
    "fig, ax = plt.subplots(figsize=(15,25))\n",
    "data = []\n",
    "index = []\n",
    "\n",
    "for node in model['node_names']:\n",
    "    data.append(random.randint(0,100))\n",
    "    index.append(node)\n",
    "    \n",
    "wdn.plot_unique_data(model,ax,parameter='custom_data',data_type='discrete',bin_edge_num=5,parameter_type='node',customDataValues=[index,data],cmap='autumn')"
   ]
  },
  {
   "cell_type": "code",
   "execution_count": null,
   "id": "314ca6cb",
   "metadata": {},
   "outputs": [],
   "source": [
    "#Animates pressure at all timesteps\n",
    "fig, ax = plt.subplots(figsize=(15,25))\n",
    "wdn.animate_plot(model,ax,wdn.plot_discrete_nodes,first_timestep=0,last_timestep=30,bin_edge_num=5,bins=[-0.0001,20,40,60,80],parameter='pressure')"
   ]
  }
 ],
 "metadata": {
  "kernelspec": {
   "display_name": "Python 3 (ipykernel)",
   "language": "python",
   "name": "python3"
  },
  "language_info": {
   "codemirror_mode": {
    "name": "ipython",
    "version": 3
   },
   "file_extension": ".py",
   "mimetype": "text/x-python",
   "name": "python",
   "nbconvert_exporter": "python",
   "pygments_lexer": "ipython3",
   "version": "3.8.13"
  }
 },
 "nbformat": 4,
 "nbformat_minor": 5
}
