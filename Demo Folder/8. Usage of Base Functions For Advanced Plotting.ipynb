{
 "cells": [
  {
   "cell_type": "markdown",
   "id": "5203af5d",
   "metadata": {},
   "source": [
    "# 8. Usage of Base Functions For Advanced Plotting\n",
    "This notebook provides examples on how base functions can be used to create more complex plots. The examples provided accomplish:\n",
    "- Plotting both discrete and continuous data on the same figure;\n",
    "- Plotting two parameters using subplots;\n",
    "- Adding labels to plots;\n",
    "- Highlighting certain nodes;\n",
    "- Highlighting certain links;\n",
    "- See <span style=\"color:dodgerblue\"> *ALL*</span> other sections for already covered arguments"
   ]
  },
  {
   "cell_type": "markdown",
   "id": "87bb3ca0",
   "metadata": {},
   "source": [
    "## <span style=\"color:dodgerblue\"> Import Libraries </span>"
   ]
  },
  {
   "cell_type": "code",
   "execution_count": null,
   "id": "cc963196",
   "metadata": {},
   "outputs": [],
   "source": [
    "import visnet010 as vis\n",
    "import matplotlib.pyplot as plt\n",
    "import os"
   ]
  },
  {
   "cell_type": "markdown",
   "id": "b7d63ff4",
   "metadata": {},
   "source": [
    "## <span style=\"color:dodgerblue\"> Runs Network EPANET simulation, and stores necessary information about network into a dataframe </span>"
   ]
  },
  {
   "cell_type": "code",
   "execution_count": null,
   "id": "7cce4067",
   "metadata": {},
   "outputs": [],
   "source": [
    "#Initialize model\n",
    "model = vis.initialize_model('Networks\\CTown.inp')\n",
    "\n",
    "#Define the file path for images. By default, this is the location where the python file is located.\n",
    "#Because of how Jupyter Notebook works, a relative path from the notebook can not be obtained.\n",
    "cwd = os.getcwd()\n",
    "model['image_path'] = cwd + '\\Images'"
   ]
  },
  {
   "cell_type": "markdown",
   "id": "d2059135",
   "metadata": {},
   "source": [
    "## <span style=\"color:dodgerblue\"> 8.1 Plotting Both Discrete and Continuous Data </span>\n",
    "\n",
    "Notes:\n",
    "- Simply calling the functions using the same ax will result in both Discrete and Continuous data. \n",
    "\n",
    "\n",
    "- Note that you should set savefig = False for the first function."
   ]
  },
  {
   "cell_type": "code",
   "execution_count": null,
   "id": "3f246ba3",
   "metadata": {},
   "outputs": [],
   "source": [
    "#Combination of distinct nodes + continuous links\n",
    "fig, ax = plt.subplots(figsize=(11,15))\n",
    "ax.set_facecolor((0.1, 0.1, 0.1))\n",
    "#Removes border from figure\n",
    "ax.spines['top'].set_visible(False)\n",
    "ax.spines['bottom'].set_visible(False)\n",
    "ax.spines['right'].set_visible(False)\n",
    "ax.spines['left'].set_visible(False)\n",
    "vis.plot_discrete_nodes(model,ax,5,parameter='elevation',\n",
    "                        savefig=False, \n",
    "                        legend_title= 'Elevation Groups')\n",
    "\n",
    "vis.plot_continuous_links(model,ax,parameter='flowrate',value=11,\n",
    "                          pumps=False,\n",
    "                          cmap='bwr',\n",
    "                          color_bar_title=\"Flowrate\", \n",
    "                          save_name=\"ContinuousFlowrate\",\n",
    "                          legend=False)"
   ]
  },
  {
   "cell_type": "markdown",
   "id": "156b01f8",
   "metadata": {},
   "source": [
    "## <span style=\"color:dodgerblue\"> 8.2 Plotting With Subplots </span>\n",
    "\n",
    "Notes:\n",
    "- Like the last example, calling the functions will accomplish this, so long as you define the subplots and use the appropriate ax. \n",
    "\n",
    "\n",
    "- Just as before, make sure to set savefig = False for all called functions except for the last."
   ]
  },
  {
   "cell_type": "code",
   "execution_count": null,
   "id": "8cc0b616",
   "metadata": {},
   "outputs": [],
   "source": [
    "fig, (ax1,ax2) = plt.subplots(nrows=1, ncols=2,figsize=(25,15),sharex=True,sharey=True)\n",
    "ax2.set_facecolor((0.1, 0.1, 0.1))\n",
    "#Removes border from figure\n",
    "ax2.spines['top'].set_visible(False)\n",
    "ax2.spines['bottom'].set_visible(False)\n",
    "ax2.spines['right'].set_visible(False)\n",
    "ax2.spines['left'].set_visible(False)\n",
    "# plot 1\n",
    "vis.plot_discrete_nodes(model,ax1,5,parameter='elevation',\n",
    "                        savefig=False, \n",
    "                        legend_title= 'Elevation Groups')\n",
    "\n",
    "# plot2\n",
    "vis.plot_continuous_links(model,ax2,parameter='flowrate',value=11,\n",
    "                          pumps=False,\n",
    "                          cmap='bwr',\n",
    "                          color_bar_title=\"Flowrate\", \n",
    "                          save_name=\"discreteContinuous\")"
   ]
  },
  {
   "cell_type": "markdown",
   "id": "65501167",
   "metadata": {},
   "source": [
    "## <span style=\"color:dodgerblue\"> 8.3 Using Labels </span>\n",
    "\n",
    "Notes:\n",
    "- When using labels, ther are two modes of operation. If there is no nodelist provided, then the x and y coordinates are absolute, and can only be from 0 to 1, where (0,0) is at the bottom left, and (1,1) is at the top right.\n",
    "\n",
    "\n",
    "- However, when a nodelist is provided, the coordinates become relative to that node. Because each networks coordinate system is different, some trial and error may be required to get the desired placement of the labels. However, generally working in increments of 10 is a good start."
   ]
  },
  {
   "cell_type": "code",
   "execution_count": null,
   "id": "0a9990b8",
   "metadata": {},
   "outputs": [],
   "source": [
    "model = vis.initialize_model('Networks\\CTown.inp')\n",
    "\n",
    "#Special Labels\n",
    "fig, ax = plt.subplots(figsize=(10,15))\n",
    "#Removes border from figure\n",
    "plt.box(False)\n",
    "#Draws distinct elevation.\n",
    "vis.plot_discrete_nodes(model,ax,5,parameter='elevation')\n",
    "\n",
    "#Draws label without providing list of nodes. \n",
    "#This means that the coordinates provided (the first set being x and the second being y coordinates) are absolute from 0 to 1. \n",
    "vis.draw_label(model, ax, \n",
    "               labels = ['label','label2'],\n",
    "               x_coords = [0.5,0.3],\n",
    "               y_coords = [0.1,0.7])\n",
    "\n",
    "#Draws label by providing list of nodes. \n",
    "#This means that coordiantes are relative, and the value you will need to input will depend on the network.\n",
    "vis.draw_label(model, ax,\n",
    "               labels = ['J511','J411'],\n",
    "               x_coords = [50,-50],\n",
    "               y_coords = [75,20],\n",
    "               nodes = ['J511','J411'])"
   ]
  },
  {
   "cell_type": "markdown",
   "id": "44ae9200",
   "metadata": {},
   "source": [
    "## <span style=\"color:dodgerblue\"> 8.4 Highlighting Nodes </span>\n",
    "\n",
    "Notes:\n",
    "- By using the base function draw_nodes() a specific node or nodes can be customized and drawn on the plot. \n",
    "\n",
    "\n",
    "- The available node customization arguments are node_size, node_color, nde_shape, edge_colors, and line_widths. All of these arguments are covered in section 2. "
   ]
  },
  {
   "cell_type": "code",
   "execution_count": null,
   "id": "d981debb",
   "metadata": {},
   "outputs": [],
   "source": [
    "#Special Labels\n",
    "fig, ax = plt.subplots(figsize=(10,15))\n",
    "#Removes border from figure\n",
    "plt.box(False)\n",
    "#Draws distinct elevation.\n",
    "vis.plot_discrete_nodes(model,ax,5,parameter='elevation')\n",
    "\n",
    "#Plots red square with black outline at specific nodes\n",
    "vis.draw_nodes(model,['J511','J411'],\n",
    "               node_size=[50,100],\n",
    "               node_color='r',\n",
    "               node_shape='s',\n",
    "               edge_colors='k',\n",
    "               line_widths=2)"
   ]
  },
  {
   "cell_type": "markdown",
   "id": "ea03a956",
   "metadata": {},
   "source": [
    "## <span style=\"color:dodgerblue\"> 8.5 Highlighting Links </span>\n",
    "\n",
    "Notes:\n",
    "- By using the base function draw_links() a specific link or links can be customized and drawn on the plot. \n",
    "\n",
    "\n",
    "- The only available link customization options are the color of the links, and the width of the links. Note that the argument that controls the width of the links is an array, and that array must be equal in size to the number of links provided."
   ]
  },
  {
   "cell_type": "code",
   "execution_count": null,
   "id": "e1dde705",
   "metadata": {},
   "outputs": [],
   "source": [
    "#Special Labels\n",
    "fig, ax = plt.subplots(figsize=(10,15))\n",
    "#Removes border from figure\n",
    "plt.box(False)\n",
    "#Draws distinct elevation.\n",
    "vis.plot_discrete_nodes(model,ax,5,parameter='elevation')\n",
    "\n",
    "vis.draw_links(model,['P986','P987','P988'],edge_color='g',widths=[5,5,5])"
   ]
  }
 ],
 "metadata": {
  "kernelspec": {
   "display_name": "Python 3 (ipykernel)",
   "language": "python",
   "name": "python3"
  },
  "language_info": {
   "codemirror_mode": {
    "name": "ipython",
    "version": 3
   },
   "file_extension": ".py",
   "mimetype": "text/x-python",
   "name": "python",
   "nbconvert_exporter": "python",
   "pygments_lexer": "ipython3",
   "version": "3.8.13"
  }
 },
 "nbformat": 4,
 "nbformat_minor": 5
}
