{
 "cells": [
  {
   "cell_type": "markdown",
   "id": "e127fb8a",
   "metadata": {},
   "source": [
    "# 1. Basic Plotting\n",
    "This notebook demonstrates the basic plotting fuctionality that the function 'plot_basic_elements' provides, without any additional data attached to each element of the network. This function, and notebook allows for and demonstrates the ability to:\n",
    "- Determine whether to plot elements of the network or not, e.g., nodes, links, reservoirs; \n",
    "- Determine the location of legends, and if they are drawn or not; \n",
    "- Determine whether the figure is saved or not, and the save name;"
   ]
  },
  {
   "cell_type": "markdown",
   "id": "8d66aede",
   "metadata": {},
   "source": [
    "## <span style=\"color:dodgerblue\"> plot_basic_elements() Function Information</span>\n",
    "Description: Plotting function that creates a barebones plot of the network without any data attached to them.\n",
    "\n",
    "Arguments:\n",
    "\n",
    "- `model`- visplot model that contains necessary information about network;\n",
    "- `ax` -  matplotlib axes that the elements are being drawn on;\n",
    "\n",
    "\n",
    "- `pumps (boolean)` -  determines whether to draw pumps or not (default = True);\n",
    "- `valves (boolean)` -  determines whether to draw pumps or not  (default = True);\n",
    "- `reservoirs (boolean)` -  determines whether to draw pumps or not  (default = True);\n",
    "- `tanks (boolean)` -  determines whether to draw pumps or not  (default = True);\n",
    "- `links (boolean)` -  determines whether to draw pumps or not  (default = True);\n",
    "- `nodes (boolean)` -  determines whether to draw pumps or not  (default = True);\n",
    "\n",
    "\n",
    "- `savefig (boolean)` -  determines whether the figure is saved or not  (default = True);\n",
    "- `save_name (string)` - if not defined, default save name will be the name of the network  (default = True); \n",
    "\n",
    "\n",
    "- `legend (boolean)` - determines whether to draw legend or not (default = True);\n"
   ]
  },
  {
   "cell_type": "markdown",
   "id": "77bfa16a",
   "metadata": {},
   "source": [
    "## <span style=\"color:dodgerblue\"> Dependencies </span>\n",
    "\n",
    "- Numpy 1.2+\n",
    "- Pandas 1.4.3+\n",
    "- NetworkX 2.8.2+\n",
    "- Matplotlib 3.5.2+\n",
    "- WNTR 0.3.1+\n",
    "- Imageio 2.19.3+"
   ]
  },
  {
   "cell_type": "markdown",
   "id": "d5c01749",
   "metadata": {},
   "source": [
    "## <span style=\"color:dodgerblue\"> Import Libraries </span>"
   ]
  },
  {
   "cell_type": "code",
   "execution_count": null,
   "id": "6ea37d45",
   "metadata": {},
   "outputs": [],
   "source": [
    "import visnet.network as visinit\n",
    "import visnet.drawing as visplot\n",
    "\n",
    "import matplotlib.pyplot as plt\n",
    "import os"
   ]
  },
  {
   "cell_type": "markdown",
   "id": "bdcf7057",
   "metadata": {},
   "source": [
    "## <span style=\"color:dodgerblue\"> Runs Network EPANET simulation, and stores necessary information about network into a dataframe </span>\n",
    "\n",
    "Notes:\n",
    "- When initializing the model, WNTR is used to obtain the network coordinates, necessary information about the network such as pipe names, junction names, etc. Additionally, a hydraulic simulation of the network is done using the defined parameters from the .inp file. The simulator used is EPANET 2.2.0 "
   ]
  },
  {
   "cell_type": "code",
   "execution_count": null,
   "id": "a01f2337",
   "metadata": {},
   "outputs": [],
   "source": [
    "#Initialize model\n",
    "model = visinit.initialize_model('Networks\\CTown.inp')\n",
    "\n",
    "#Define the file path for images. By default, this is the location where the python file is located.\n",
    "#Because of how Jupyter Notebook works, a relative path from the notebook can not be obtained.\n",
    "cwd = os.getcwd()\n",
    "model['image_path'] = cwd + '\\Images'"
   ]
  },
  {
   "cell_type": "markdown",
   "id": "dfdd181a",
   "metadata": {},
   "source": [
    "## <span style=\"color:dodgerblue\"> 1.1 Creating a Basic Plot </span>\n",
    "\n",
    "Notes:\n",
    "\n",
    "- When no optional arguments are given to the function, it creates a barebones plot of the network, similar to one seen in EPANET.\n",
    "\n",
    "\n",
    "- The marker styles used are the default ones used throughout all functions. Reservoirs are black squares, tanks are black diamonds, pipes are black edges, pumps are blue edges, and valves are represented by orange '+' markers shown at the center point of the valve edge."
   ]
  },
  {
   "cell_type": "code",
   "execution_count": null,
   "id": "aa393055",
   "metadata": {},
   "outputs": [],
   "source": [
    "# Defines a matplotlib figure and axis. The user can customize the size of the plot in this way.\n",
    "fig, ax = plt.subplots(figsize = (9,15))\n",
    "#Removes border from figure\n",
    "plt.box(False)\n",
    "# Creates plot of network with basic elements.\n",
    "visplot.plot_basic_elements(model,ax)"
   ]
  },
  {
   "cell_type": "markdown",
   "id": "d857e889",
   "metadata": {},
   "source": [
    "## <span style=\"color:dodgerblue\"> 1.2 Creating a Basic Plot - Selectively Choosing What Elements Are Drawn </span>\n",
    "\n",
    "Notes:\n",
    "- All elements of a network can be specified to be drawn on the plot or not. The elements are nodes, links, reservoirs, tanks, pipes, and valves. \n",
    "\n",
    "### <span style=\"color:mediumseagreen\"> 1.2.1 No nodes </span>"
   ]
  },
  {
   "cell_type": "code",
   "execution_count": null,
   "id": "7cc4e809",
   "metadata": {},
   "outputs": [],
   "source": [
    "# Defines a matplotlib figure and axis. The user can customize the size of the plot in this way.\n",
    "fig, ax = plt.subplots(figsize = (9,15))\n",
    "#Removes border from figure\n",
    "plt.box(False)\n",
    "# Creates plot of network with basic elements.\n",
    "visplot.plot_basic_elements(model,ax,nodes=False)\n",
    "plt.show()"
   ]
  },
  {
   "cell_type": "markdown",
   "id": "f192547b",
   "metadata": {},
   "source": [
    "### <span style=\"color:mediumseagreen\"> 1.2.2 Links only"
   ]
  },
  {
   "cell_type": "code",
   "execution_count": null,
   "id": "70fb76cb",
   "metadata": {},
   "outputs": [],
   "source": [
    "# Defines a matplotlib figure and axis. The user can customize the size of the plot in this way.\n",
    "fig, ax = plt.subplots(figsize = (9,15))\n",
    "#Removes border from figure\n",
    "plt.box(False)\n",
    "# Creates plot of network with basic elements.\n",
    "visplot.plot_basic_elements(model,ax,nodes=False, reservoirs=False,tanks=False,valves=False,pumps=False)\n",
    "plt.show()"
   ]
  },
  {
   "cell_type": "markdown",
   "id": "aa4f5bb2",
   "metadata": {},
   "source": [
    "### <span style=\"color:mediumseagreen\"> 1.2.3 No reservoirs, tanks, valves, pumps"
   ]
  },
  {
   "cell_type": "code",
   "execution_count": null,
   "id": "2f1efb7e",
   "metadata": {},
   "outputs": [],
   "source": [
    "# Defines a matplotlib figure and axis. The user can customize the size of the plot in this way.\n",
    "fig, ax = plt.subplots(figsize = (9,15))\n",
    "#Removes border from figure\n",
    "plt.box(False)\n",
    "# Creates plot of network with basic elements.\n",
    "visplot.plot_basic_elements(model,ax, reservoirs=False,tanks=False,valves=False,pumps=False)\n",
    "plt.show()"
   ]
  },
  {
   "cell_type": "markdown",
   "id": "919756be",
   "metadata": {},
   "source": [
    "## <span style=\"color:dodgerblue\"> 1.3 Creating a Basic Plot - Legend Drawing </span>\n",
    "\n",
    "Notes:\n",
    "- By default, the legend for the elements is drawn. However, one can choose not to draw the legend by setting the argument legend to false\n",
    "\n",
    "\n",
    "- Additionally, one can specify the location of the legend with the argument legend_loc. By default it is 'upper right'\n",
    "\n",
    "### <span style=\"color:mediumseagreen\"> 1.3.1 Setting legend argument to false"
   ]
  },
  {
   "cell_type": "code",
   "execution_count": null,
   "id": "d954fd50",
   "metadata": {},
   "outputs": [],
   "source": [
    "# Defines a matplotlib figure and axis. The user can customize the size of the plot in this way.\n",
    "fig, ax = plt.subplots(figsize = (9,15))\n",
    "#Removes border from figure\n",
    "plt.box(False)\n",
    "# Creates plot of network with basic elements, but the legend isn't drawn.\n",
    "visplot.plot_basic_elements(model,ax, legend=False)\n",
    "plt.show()"
   ]
  },
  {
   "cell_type": "markdown",
   "id": "9bd2f494",
   "metadata": {},
   "source": [
    "### <span style=\"color:mediumseagreen\"> 1.3.2 Specifying to draw legend in lower-left corner"
   ]
  },
  {
   "cell_type": "code",
   "execution_count": null,
   "id": "ced9bbdd",
   "metadata": {},
   "outputs": [],
   "source": [
    "# Defines a matplotlib figure and axis. The user can customize the size of the plot in this way.\n",
    "fig, ax = plt.subplots(figsize = (9,15))\n",
    "#Removes border from figure\n",
    "plt.box(False)\n",
    "# Creates plot of network with basic elements, with legend in the lower left.\n",
    "visplot.plot_basic_elements(model,ax, legend_loc='lower left')\n",
    "plt.show()"
   ]
  },
  {
   "cell_type": "markdown",
   "id": "ed8e2c93",
   "metadata": {},
   "source": [
    "## <span style=\"color:dodgerblue\"> 1.4 Creating a Basic Plot - Plot Saving </span>\n",
    "\n",
    "Notes:\n",
    "- By default, the function saves the plot to wherever model\\['image_path'] points to. The optional argument savefig can be set to True or False, and determines if the plot is saved. This is set to True by default.\n",
    "\n",
    "\n",
    "- The argument save_name can be specified. By default, the save name of the plot, if saved, is the name of the network. By specifiying something for the save_name argument, it will prepend that to the name of the network.  \n",
    "\n",
    "### <span style=\"color:mediumseagreen\">1.4.1 Opting to not save the plot"
   ]
  },
  {
   "cell_type": "code",
   "execution_count": null,
   "id": "e685c05d",
   "metadata": {},
   "outputs": [],
   "source": [
    "# Defines a matplotlib figure and axis. The user can customize the size of the plot in this way.\n",
    "fig, ax = plt.subplots(figsize = (9,15))\n",
    "#Removes border from figure\n",
    "plt.box(False)\n",
    "# Creates plot of network with basic elements, but doesn't save the plot to storage.\n",
    "visplot.plot_basic_elements(model,ax)\n",
    "plt.show()"
   ]
  },
  {
   "cell_type": "markdown",
   "id": "ccfd8c14",
   "metadata": {},
   "source": [
    "### <span style=\"color:mediumseagreen\">1.4.2 Specifiying save name of figure"
   ]
  },
  {
   "cell_type": "code",
   "execution_count": null,
   "id": "aa1850d5",
   "metadata": {},
   "outputs": [],
   "source": [
    "# Defines a matplotlib figure and axis. The user can customize the size of the plot in this way.\n",
    "fig, ax = plt.subplots(figsize = (9,15))\n",
    "#Removes border from figure\n",
    "plt.box(False)\n",
    "# Creates plot of network with basic elements. The output name of the saved .png file will be 'BasicCTown.png'\n",
    "visplot.plot_basic_elements(model,ax, save_name='Basic')\n",
    "plt.show()"
   ]
  }
 ],
 "metadata": {
  "kernelspec": {
   "display_name": "Python 3 (ipykernel)",
   "language": "python",
   "name": "python3"
  },
  "language_info": {
   "codemirror_mode": {
    "name": "ipython",
    "version": 3
   },
   "file_extension": ".py",
   "mimetype": "text/x-python",
   "name": "python",
   "nbconvert_exporter": "python",
   "pygments_lexer": "ipython3",
   "version": "3.8.13"
  }
 },
 "nbformat": 4,
 "nbformat_minor": 5
}
