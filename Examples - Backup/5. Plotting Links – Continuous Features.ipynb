{
 "cells": [
  {
   "cell_type": "markdown",
   "id": "c59573b0",
   "metadata": {},
   "source": [
    "# 5. Plotting Links – Continuous Features\n",
    "This notebook demonstrates the continuous plotting fuctionality for nodes that the function 'plot_discrete_nodes' provides. This function, and notebook allows for and demonstrates the ability to:\n",
    "- Plot datapoints using a colormap;\n",
    "- Dynamically change line widths based on data associated with it;\n",
    "- Define min and max widths for links;\n",
    "- Automatically adjust colorbar when negative values are present;\n",
    "- See <span style=\"color:dodgerblue\"> 1.3</span>, <span style=\"color:dodgerblue\"> 1.4</span>, <span style=\"color:dodgerblue\"> 3.1</span>, <span style=\"color:dodgerblue\"> 3.2</span>, <span style=\"color:dodgerblue\"> 4.2</span>, <span style=\"color:dodgerblue\"> and 4.3</span> for already covered arguments"
   ]
  },
  {
   "cell_type": "markdown",
   "id": "4ec10925",
   "metadata": {},
   "source": [
    "## <span style=\"color:dodgerblue\"> plot_continuous_links() Function Information</span>\n",
    "Description: Plotting function that gets and draws continuous link data.\n",
    "\n",
    "Arguments:\n",
    "\n",
    "- `model` - visplot model that contains necessary information about network;\n",
    "- `ax` - matplotlib axes that the elements are being drawn on;\n",
    "\n",
    "\n",
    "- `num_intervals (integer)` - number of intervals to be created (default = 5);\n",
    "- `intervals (array of integers, string)` - array of intervals to be used, or set to 'automatic' (default = 'automatic');\n",
    "- `parameter (string)` - name of parameter to be plotted (default = None);\n",
    "- `value (int, string)` - takes ‘max’ ‘min’ ‘mean’ or an integer that represents the timestep index (default = None);\n",
    "\n",
    "\n",
    "- `get_tanks (boolean)` - determines if the parameter is collected for tanks (default = False). \n",
    "- `get_reservoirs (boolean)` - determines if parameter is collected for reservoirs (default = False).\n",
    "\n",
    "\n",
    "- `min_width (integer)` - minimum width of links (default = 1);\n",
    "- `max_width (integer)` - maximum width of links (default = 5);\n",
    "\n",
    "\n",
    "- `savefig (boolean)` -  determines whether the figure is saved or not  (default = True);\n",
    "- `save_name (string)` - if not defined, default save name will be the name of the network  (default = True); \n",
    "\n",
    "\n",
    "- `pumps (boolean)` -  determines whether to draw pumps or not (default = True);\n",
    "- `valves (boolean)` -  determines whether to draw pumps or not  (default = True);\n",
    "- `reservoirs (boolean)` -  determines whether to draw pumps or not  (default = True);\n",
    "- `tanks (boolean)` -  determines whether to draw pumps or not  (default = True);\n",
    "\n",
    "\n",
    "- `cmap (string)` - colormap to be used for node colors (default = 'autumn_r');\n",
    "\n",
    "\n",
    "- `legend (boolean)` - determines whether to draw legends or not (default = True);\n",
    "- `color_bar_title (string)` - title of the color bar (default = None);\n",
    "- `legend_loc (string)` - location of base elements legend (default = 'upper right');"
   ]
  },
  {
   "cell_type": "markdown",
   "id": "2243db39",
   "metadata": {},
   "source": [
    "## <span style=\"color:dodgerblue\"> Import Libraries </span>"
   ]
  },
  {
   "cell_type": "code",
   "execution_count": null,
   "id": "8b7a16ef",
   "metadata": {},
   "outputs": [],
   "source": [
    "import visnet.network as visinit\n",
    "import visnet.drawing as visplot\n",
    "\n",
    "import matplotlib.pyplot as plt\n",
    "import os"
   ]
  },
  {
   "cell_type": "markdown",
   "id": "1cf122b2",
   "metadata": {},
   "source": [
    "## <span style=\"color:dodgerblue\"> Runs Network EPANET simulation, and stores necessary information about network into a dataframe </span>"
   ]
  },
  {
   "cell_type": "code",
   "execution_count": null,
   "id": "72e48caf",
   "metadata": {},
   "outputs": [],
   "source": [
    "#Initialize model\n",
    "model = visinit.initialize_model('Networks/CTown.inp')\n",
    "\n",
    "#Define the file path for images. By default, this is the location where the python file is located.\n",
    "#Because of how Jupyter Notebook works, a relative path from the notebook can not be obtained.\n",
    "\n",
    "cwd = os.getcwd()\n",
    "model['image_path'] = cwd + '/Images'"
   ]
  },
  {
   "cell_type": "markdown",
   "id": "c3a317d3",
   "metadata": {},
   "source": [
    "## <span style=\"color:dodgerblue\"> 5.1 Creating a Continuous Nodes Plot - Line Width Varation Arguments</span>\n",
    "\n",
    "Notes:\n",
    "- The arguments min_width and max_width determine how potentially wide or narrow a link will be plotted. When the two are not equal to each other, which is the case by default, the function will linerally vary the line width of each link based on the value of it's data. \n",
    "\n",
    "\n",
    "- Sometimes, a parameter's values will be negative. In this case, visplotnet will adjust the colormap so that 0 is at the center.\n",
    "\n",
    "### <span style=\"color:mediumseagreen\"> 5.1.1 When min_width and max_width are equal"
   ]
  },
  {
   "cell_type": "code",
   "execution_count": null,
   "id": "5104ea49",
   "metadata": {},
   "outputs": [],
   "source": [
    "#Defines a matplotlib figure and axis. The user can customize the size of the plot in this way.\n",
    "fig, ax = plt.subplots(figsize = (9,15))\n",
    "#Removes border from figure\n",
    "plt.box(False)\n",
    "#Creates continuous links plot of flowrate at timestep 10 with equal min_width and max_width.\n",
    "visplot.plot_continuous_links(model, ax, parameter='flowrate',value=10, min_width=2,max_width=2)\n",
    "plt.show()"
   ]
  },
  {
   "cell_type": "markdown",
   "id": "501bf07f",
   "metadata": {},
   "source": [
    "### <span style=\"color:mediumseagreen\"> 5.1.1 When min_width and max_width are not equal"
   ]
  },
  {
   "cell_type": "code",
   "execution_count": null,
   "id": "e19855c7",
   "metadata": {},
   "outputs": [],
   "source": [
    "#Defines a matplotlib figure and axis. The user can customize the size of the plot in this way.\n",
    "fig, ax = plt.subplots(figsize = (9,15))\n",
    "#Removes border from figure\n",
    "plt.box(False)\n",
    "#Creates continuous links plot of flowrate at timestep 10 with default min_width and max_width (1 and 5).\n",
    "visplot.plot_continuous_links(model, ax, parameter='flowrate',value=10)\n",
    "plt.show()"
   ]
  }
 ],
 "metadata": {
  "kernelspec": {
   "display_name": "Python 3 (ipykernel)",
   "language": "python",
   "name": "python3"
  },
  "language_info": {
   "codemirror_mode": {
    "name": "ipython",
    "version": 3
   },
   "file_extension": ".py",
   "mimetype": "text/x-python",
   "name": "python",
   "nbconvert_exporter": "python",
   "pygments_lexer": "ipython3",
   "version": "3.8.13"
  }
 },
 "nbformat": 4,
 "nbformat_minor": 5
}
