{
 "cells": [
  {
   "cell_type": "markdown",
   "id": "358cac1e",
   "metadata": {},
   "source": [
    "# 7. Creating GIFS/Animating Plots\n",
    "This notebook demonstrates the creation of GIFS that the function'animate_plot' facilitates. This function, and notebook allows for and demonstrates the ability to:\n",
    "- Create GIFS of time-dependent parameters;\n",
    "- Maintain the same bins or colormap throughout the GIF;\n",
    "- Specify the range of timesteps to be included;\n",
    "- Change the speed at which the GIF changes timesteps;\n",
    "- Name the GIF file;\n",
    "- See <span style=\"color:dodgerblue\"> *ALL*</span> other sections for already covered arguments"
   ]
  },
  {
   "cell_type": "markdown",
   "id": "1be76673",
   "metadata": {},
   "source": [
    "## <span style=\"color:dodgerblue\"> plot_continuous_links() Function Information</span>\n",
    "Description: Function that generates GIFS of time-dependent parameters across all, or a select range of timesteps.\n",
    "\n",
    "Arguments:\n",
    "\n",
    "- `model` - visplot model that contains necessary information about network;\n",
    "- `ax` - matplotlib axes that the elements are being drawn on;\n",
    "\n",
    "\n",
    "- `function (function)` - the function that should be animated; does not support plot_unique_data (default = None);\n",
    "- `fps (integer)` - The frames per second that the GIF should run at (default = 3);\n",
    "- `first_timestep (integer)` - The first timestep that the GIF should start at (default = 0);\n",
    "- `last_timestep (integer)` - The timestpe that the GIF should end at (default = None);\n",
    "- `gif_save_name (string)` - The file name of the gif (default = 'gif');\n",
    "- `kwargs**` - arguments from the function defined in the function argument;\n"
   ]
  },
  {
   "cell_type": "markdown",
   "id": "660bcba7",
   "metadata": {},
   "source": [
    "## <span style=\"color:dodgerblue\"> Import Libraries </span>"
   ]
  },
  {
   "cell_type": "code",
   "execution_count": null,
   "id": "ab97c1e3",
   "metadata": {},
   "outputs": [],
   "source": [
    "import visnet.network as visinit\n",
    "import visnet.drawing as visplot\n",
    "import matplotlib.pyplot as plt\n",
    "plt.ioff()\n",
    "import os"
   ]
  },
  {
   "cell_type": "markdown",
   "id": "452c41b5",
   "metadata": {},
   "source": [
    "## <span style=\"color:dodgerblue\"> Runs Network EPANET simulation, and stores necessary information about network into a dataframe </span>"
   ]
  },
  {
   "cell_type": "code",
   "execution_count": null,
   "id": "08de7729",
   "metadata": {},
   "outputs": [],
   "source": [
    "#Initialize model\n",
    "model = visinit.initialize_model('Networks/CTown.inp')\n",
    "\n",
    "#Define the file path for images. By default, this is the location where the python file is located.\n",
    "#Because of how Jupyter Notebook works, a relative path from the notebook can not be obtained.\n",
    "cwd = os.getcwd()\n",
    "model['image_path'] = cwd + '/Images'"
   ]
  },
  {
   "cell_type": "markdown",
   "id": "d4425482",
   "metadata": {},
   "source": [
    "## <span style=\"color:dodgerblue\"> 7.1 Creating GIFS - Basics</span>\n",
    "\n",
    "Notes:\n",
    "- To animate a plot, one needs at a minimum 3 arguments: model, ax, and function. The function argument is simply the actual function you are animating. \n",
    "\n",
    "\n",
    "- All other arguments needed depend on what your function argument. All arguments for the function being animated are usable in animate_plot."
   ]
  },
  {
   "cell_type": "code",
   "execution_count": null,
   "id": "a6935278",
   "metadata": {},
   "outputs": [],
   "source": [
    "#Animates pressure at all timesteps\n",
    "fig, ax = plt.subplots(figsize=(15,25))\n",
    "#Removes border from figure\n",
    "plt.box(False)\n",
    "#Creates an .gif file that goes through all timesteps, creating a discrete nodes plot of pressure at each of these timesteps.\n",
    "visplot.animate_plot(model,ax,visplot.plot_discrete_nodes,\n",
    "                 bin_edge_num=5,\n",
    "                 bins=[-0.0001,20,40,60,80],\n",
    "                 parameter='pressure')"
   ]
  },
  {
   "cell_type": "markdown",
   "id": "59994dbe",
   "metadata": {},
   "source": [
    "## <span style=\"color:dodgerblue\"> 7.2 Creating GIFS - GIF Customization</span>\n",
    "\n",
    "Notes:\n",
    "- The customization arguments present are fps, first_timestep, last_timestep, and gif_save_name.\n",
    "\n",
    "\n",
    "- The fps argument determines how quickly the gif file will move on to the next timestep.\n",
    "\n",
    "\n",
    "- first_timestep determimes the starting timestep, while last_timestep determines the ending timestep.\n",
    "\n",
    "\n",
    "- gif_save_name functions the same as save_name for all other functions. "
   ]
  },
  {
   "cell_type": "code",
   "execution_count": null,
   "id": "8a40d1c4",
   "metadata": {},
   "outputs": [],
   "source": [
    "#Animates pressure\n",
    "fig, ax = plt.subplots(figsize=(15,25))\n",
    "#Removes border from figure\n",
    "plt.box(False)\n",
    "visplot.animate_plot(model,ax,visplot.plot_discrete_nodes,\n",
    "                 fps = 5,\n",
    "                 first_timestep=0,last_timestep=30,\n",
    "                 bin_edge_num=5,\n",
    "                 bins=[-0.0001,20,40,60,80],\n",
    "                 parameter='pressure',\n",
    "                 gif_save_name='Customized')"
   ]
  },
  {
   "cell_type": "markdown",
   "id": "4d92ad42",
   "metadata": {},
   "source": [
    "## <span style=\"color:dodgerblue\"> 7.3 Other Applications</span> \n",
    "\n",
    "Notes:\n",
    "- Any function can be called with animate_plot so long as it has a model, ax, and value input. One application for this is the use of non-WNTR data."
   ]
  },
  {
   "cell_type": "code",
   "execution_count": null,
   "id": "291092e1",
   "metadata": {},
   "outputs": [],
   "source": [
    "#Using custom functions\n",
    "def random_data(model,ax,value=None):\n",
    "    import random\n",
    "\n",
    "    fig, ax = plt.subplots(figsize=(12,17))\n",
    "\n",
    "    data = []\n",
    "    index = []\n",
    "\n",
    "    for node in model['node_names']:\n",
    "        data.append(random.randint(0,100))\n",
    "        index.append(node)\n",
    "\n",
    "    visplot.plot_unique_data(model, ax, parameter='custom_data',\n",
    "                         data_type='continuous',\n",
    "                         parameter_type='node',\n",
    "                         custom_data_values=[index,data])\n",
    "fig, ax = plt.subplots(figsize=(15,25))\n",
    "#Removes border from figure\n",
    "plt.box(False)\n",
    "visplot.animate_plot(model,ax,random_data,\n",
    "                 fps = 10,\n",
    "                 gif_save_name='CustomFunction')"
   ]
  },
  {
   "cell_type": "code",
   "execution_count": null,
   "id": "e504cabc",
   "metadata": {},
   "outputs": [],
   "source": []
  }
 ],
 "metadata": {
  "kernelspec": {
   "display_name": "Python 3 (ipykernel)",
   "language": "python",
   "name": "python3"
  },
  "language_info": {
   "codemirror_mode": {
    "name": "ipython",
    "version": 3
   },
   "file_extension": ".py",
   "mimetype": "text/x-python",
   "name": "python",
   "nbconvert_exporter": "python",
   "pygments_lexer": "ipython3",
   "version": "3.8.13"
  }
 },
 "nbformat": 4,
 "nbformat_minor": 5
}
