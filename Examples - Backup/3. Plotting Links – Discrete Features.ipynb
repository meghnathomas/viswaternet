{
 "cells": [
  {
   "cell_type": "markdown",
   "id": "fb4fceba",
   "metadata": {},
   "source": [
    "# 3. Plotting Links – Discrete Features\n",
    "This notebook demonstrates the discrete plotting fuctionality for links that the function 'plot_discrete_links' provides. This function, and notebook allows for and demonstrates the ability to:\n",
    "- Plot both static (e.g., elevation, base demand) and time-varying attributes (pressure, demand);\n",
    "- Specify whether to plot data at a specific timestep, or plot the mean, min, or max for time-varying attributes; \n",
    "- Bin datapoints into defined groups;\n",
    "- Define link width for each defined group;\n",
    "- See <span style=\"color:dodgerblue\"> 1.4</span>,<span style=\"color:dodgerblue\"> 2.1</span>, <span style=\"color:dodgerblue\"> 2.2</span>, <span style=\"color:dodgerblue\"> 2.3</span>, <span style=\"color:dodgerblue\"> 2.4.4</span>, <span style=\"color:dodgerblue\"> 2.5</span>, <span style=\"color:dodgerblue\"> 2.6</span> for already covered arguments"
   ]
  },
  {
   "cell_type": "markdown",
   "id": "66d57fec",
   "metadata": {},
   "source": [
    "## <span style=\"color:dodgerblue\"> plot_discrete_links() Function Information</span>\n",
    "Description: Plotting function that gets, bins, and draws discrete link data.\n",
    "\n",
    "Arguments:\n",
    "\n",
    "- `model` - visplot model that contains necessary information about network;\n",
    "- `ax` - matplotlib axes that the elements are being drawn on;\n",
    "\n",
    "\n",
    "- `num_intervals (integer)` - number of intervals to be created (default = 5);\n",
    "- `intervals (array of integers, string)` - array of intervals to be used, or set to 'automatic' (default = 'automatic');\n",
    "- `parameter (string)` - name of parameter to be plotted (default = None);\n",
    "- `value (int, string)` - takes ‘max’ ‘min’ ‘mean’ or an integer that represents the timestep index (default = None);\n",
    "\n",
    "\n",
    "- `get_tanks (boolean)` - determines if the parameter is collected for tanks (default = False). \n",
    "- `get_reservoirs (boolean)` - determines if parameter is collected for reservoirs (default = False).\n",
    "\n",
    "\n",
    "- `bin_width_list (list)` - link width for each bin (default = None);\n",
    "- `bin_label_list (list)` - label that each bin will use if legend is drawn (default = None);\n",
    "\n",
    "\n",
    "- `savefig (boolean)` -  determines whether the figure is saved or not  (default = True);\n",
    "- `save_name (string)` - if not defined, default save name will be the name of the network  (default = True); \n",
    "\n",
    "\n",
    "- `pumps (boolean)` -  determines whether to draw pumps or not (default = True);\n",
    "- `valves (boolean)` -  determines whether to draw pumps or not  (default = True);\n",
    "- `reservoirs (boolean)` -  determines whether to draw pumps or not  (default = True);\n",
    "- `tanks (boolean)` -  determines whether to draw pumps or not  (default = True);\n",
    "\n",
    "\n",
    "- `color_list (list)` - list of each bin’s node color (default = None);\n",
    "- `cmap (string)` - colormap to be used for node colors (default = 'autumn_r');\n",
    "\n",
    "\n",
    "- `legend (boolean)` - determines whether to draw legends or not (default = True);\n",
    "- `legend_title (string)` - title of discrete/unique data legend (default = None);\n",
    "- `legend_loc (string)` - location of base elements legend (default = 'upper right');\n",
    "- `legend_loc2 (string)` - location of discrete/unique data legend (default = 'lower right');"
   ]
  },
  {
   "cell_type": "markdown",
   "id": "c73862c5",
   "metadata": {},
   "source": [
    "## <span style=\"color:dodgerblue\"> Import Libraries </span>"
   ]
  },
  {
   "cell_type": "code",
   "execution_count": null,
   "id": "5e77bb80",
   "metadata": {},
   "outputs": [],
   "source": [
    "import visnet.network as visinit\n",
    "import visnet.drawing as visplot\n",
    "\n",
    "import matplotlib.pyplot as plt\n",
    "import os"
   ]
  },
  {
   "cell_type": "markdown",
   "id": "8aa3b15d",
   "metadata": {},
   "source": [
    "## <span style=\"color:dodgerblue\"> Runs Network EPANET simulation, and stores necessary information about network into a dataframe </span>"
   ]
  },
  {
   "cell_type": "code",
   "execution_count": null,
   "id": "9dcdbf53",
   "metadata": {},
   "outputs": [],
   "source": [
    "#Initialize model\n",
    "model = visinit.initialize_model('Networks/CTown.inp')\n",
    "\n",
    "#Define the file path for images. By default, this is the location where the python file is located.\n",
    "#Because of how Jupyter Notebook works, a relative path from the notebook can not be obtained.\n",
    "cwd = os.getcwd()\n",
    "model['image_path'] = cwd + '/Images'"
   ]
  },
  {
   "cell_type": "markdown",
   "id": "34a6ac37",
   "metadata": {},
   "source": [
    "## <span style=\"color:dodgerblue\"> 3.1 Creating a Discrete Links Plot </span>\n",
    "\n",
    "Notes:\n",
    "- The only required argument is parameter. Without specifying parameter, an empty plot will be created. \n",
    "\n",
    "\n",
    "- get_tanks and get_reservoirs are not present for link functions.\n",
    "\n",
    "\n",
    "- possible inputs that can be taken with only the parameter argument:\n",
    " - length;\n",
    " - minor_loss;\n",
    " - bulk_coeff;\n",
    " - wall_coeff;"
   ]
  },
  {
   "cell_type": "code",
   "execution_count": null,
   "id": "28b8f15f",
   "metadata": {},
   "outputs": [],
   "source": [
    "#Defines a matplotlib figure and axis. The user can customize the size of the plot in this way.\n",
    "fig, ax = plt.subplots(figsize = (9,15))\n",
    "#Removes border from figure\n",
    "plt.box(False)\n",
    "#Creates discrete nodes plot of length.\n",
    "visplot.plot_discrete_links(model, ax,parameter='length',element_list=None)\n",
    "plt.show()"
   ]
  },
  {
   "cell_type": "markdown",
   "id": "29db88e1",
   "metadata": {},
   "source": [
    "## <span style=\"color:dodgerblue\"> 3.2 Creating a Discrete Links Plot - Value Argument Parameters </span>\n",
    "\n",
    "Notes:\n",
    "- Some parameters require an additional argument to be set. This argument is called value and can take an integer which represents the timestep, 'max', 'min', or 'mean'. \n",
    "    \n",
    "    \n",
    "- possible inputs that can be taken when both parameter and value are used:\n",
    " - flowrate;\n",
    " - velocity;\n",
    " - headloss;\n",
    " - friction_factor;\n",
    " - reaction_rate;\n",
    " - quality;"
   ]
  },
  {
   "cell_type": "code",
   "execution_count": null,
   "id": "db8be155",
   "metadata": {},
   "outputs": [],
   "source": [
    "#Defines a matplotlib figure and axis. The user can customize the size of the plot in this way.\n",
    "fig, ax = plt.subplots(figsize = (9,15))\n",
    "#Removes border from figure\n",
    "plt.box(False)\n",
    "#Creates discrete nodes plot of flowrate at timestep 10.\n",
    "visplot.plot_discrete_links(model, ax,parameter='flowrate', value=10,element_list=None)\n",
    "plt.show()"
   ]
  },
  {
   "cell_type": "markdown",
   "id": "f18a8a73",
   "metadata": {},
   "source": [
    "## <span style=\"color:dodgerblue\"> 3.3 Creating a Discrete Links Plot - bin_width_list Argument </span>\n",
    "\n",
    "Notes:\n",
    "- The bin_width_list argument functions like the bin arguments for discrete node plotting. An array should be provided that is 1 less than the number of intervals, aka the number of bins. All inputs should be integers."
   ]
  },
  {
   "cell_type": "code",
   "execution_count": null,
   "id": "190dfe3a",
   "metadata": {},
   "outputs": [],
   "source": [
    "#Defines a matplotlib figure and axis. The user can customize the size of the plot in this way.\n",
    "fig, ax = plt.subplots(figsize = (9,15))\n",
    "#Removes border from figure\n",
    "plt.box(False)\n",
    "#Creates discrete nodes plot of flowrate at timestep 10 with custom link widths.\n",
    "visplot.plot_discrete_links(model, ax,parameter='flowrate', value=10, bin_width_list=[1,1.5,2,2.5])\n",
    "plt.show()"
   ]
  }
 ],
 "metadata": {
  "kernelspec": {
   "display_name": "Python 3 (ipykernel)",
   "language": "python",
   "name": "python3"
  },
  "language_info": {
   "codemirror_mode": {
    "name": "ipython",
    "version": 3
   },
   "file_extension": ".py",
   "mimetype": "text/x-python",
   "name": "python",
   "nbconvert_exporter": "python",
   "pygments_lexer": "ipython3",
   "version": "3.8.13"
  }
 },
 "nbformat": 4,
 "nbformat_minor": 5
}
